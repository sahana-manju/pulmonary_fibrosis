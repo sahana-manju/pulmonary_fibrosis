{
 "cells": [
  {
   "cell_type": "markdown",
   "id": "d6f9285f",
   "metadata": {
    "papermill": {
     "duration": 0.049752,
     "end_time": "2022-07-30T07:36:07.388783",
     "exception": false,
     "start_time": "2022-07-30T07:36:07.339031",
     "status": "completed"
    },
    "tags": []
   },
   "source": [
    "# **Prediction of Pulmonary Fibrosis Progression using Convolutional Neural Networks(CNN) and XGBoost Regressor**"
   ]
  },
  {
   "cell_type": "markdown",
   "id": "d2ef4fdc",
   "metadata": {
    "papermill": {
     "duration": 0.047954,
     "end_time": "2022-07-30T07:36:07.488642",
     "exception": false,
     "start_time": "2022-07-30T07:36:07.440688",
     "status": "completed"
    },
    "tags": []
   },
   "source": [
    "<font size='5'>Importing necessary libraries</font>"
   ]
  },
  {
   "cell_type": "code",
   "execution_count": 1,
   "id": "a05c8094",
   "metadata": {
    "execution": {
     "iopub.execute_input": "2022-07-30T07:36:07.602183Z",
     "iopub.status.busy": "2022-07-30T07:36:07.601411Z",
     "iopub.status.idle": "2022-07-30T07:36:13.172115Z",
     "shell.execute_reply": "2022-07-30T07:36:13.172885Z",
     "shell.execute_reply.started": "2022-07-30T05:34:48.757755Z"
    },
    "papermill": {
     "duration": 5.633467,
     "end_time": "2022-07-30T07:36:13.173155",
     "exception": false,
     "start_time": "2022-07-30T07:36:07.539688",
     "status": "completed"
    },
    "tags": []
   },
   "outputs": [],
   "source": [
    "import os\n",
    "from os import listdir\n",
    "\n",
    "import pandas as pd\n",
    "import numpy as np\n",
    "import matplotlib.pyplot as plt\n",
    "%matplotlib inline\n",
    "\n",
    "import pydicom\n",
    "from PIL import Image\n",
    "\n",
    "import tensorflow as tf\n",
    "import tensorflow.keras.backend as K\n",
    "import tensorflow.keras.layers as Layer\n",
    "import tensorflow.keras.models as Model"
   ]
  },
  {
   "cell_type": "markdown",
   "id": "d5b2b060",
   "metadata": {
    "papermill": {
     "duration": 0.049373,
     "end_time": "2022-07-30T07:36:13.272784",
     "exception": false,
     "start_time": "2022-07-30T07:36:13.223411",
     "status": "completed"
    },
    "tags": []
   },
   "source": [
    "<font size=\"5\">Loading Datasets</font>"
   ]
  },
  {
   "cell_type": "markdown",
   "id": "f3fe4683",
   "metadata": {
    "papermill": {
     "duration": 0.049406,
     "end_time": "2022-07-30T07:36:13.371339",
     "exception": false,
     "start_time": "2022-07-30T07:36:13.321933",
     "status": "completed"
    },
    "tags": []
   },
   "source": [
    "<font size='3'>Dataset Details\n",
    "* train.csv - the training set, contains full history of clinical information\n",
    "* test.csv - the test set, contains only the baseline measurement\n",
    "* train/ - contains the training patients' baseline CT scan in DICOM format\n",
    "* test/ - contains the test patients' baseline CT scan in DICOM format</font>"
   ]
  },
  {
   "cell_type": "markdown",
   "id": "906fa932",
   "metadata": {
    "papermill": {
     "duration": 0.048723,
     "end_time": "2022-07-30T07:36:13.469332",
     "exception": false,
     "start_time": "2022-07-30T07:36:13.420609",
     "status": "completed"
    },
    "tags": []
   },
   "source": [
    "<font size='4'>Loading patient clinical information from train.csv and test.csv</font>"
   ]
  },
  {
   "cell_type": "code",
   "execution_count": 2,
   "id": "f08aa196",
   "metadata": {
    "execution": {
     "iopub.execute_input": "2022-07-30T07:36:13.573145Z",
     "iopub.status.busy": "2022-07-30T07:36:13.572522Z",
     "iopub.status.idle": "2022-07-30T07:36:13.597265Z",
     "shell.execute_reply": "2022-07-30T07:36:13.596831Z",
     "shell.execute_reply.started": "2022-07-30T05:34:55.939331Z"
    },
    "papermill": {
     "duration": 0.079198,
     "end_time": "2022-07-30T07:36:13.597385",
     "exception": false,
     "start_time": "2022-07-30T07:36:13.518187",
     "status": "completed"
    },
    "tags": []
   },
   "outputs": [],
   "source": [
    "Path = \"../input/osic-pulmonary-fibrosis-progression\"\n",
    "train_data= pd.read_csv(f\"{Path}/train.csv\")\n",
    "test_data=pd.read_csv(\"../input/test-data/validation/validation.txt\")"
   ]
  },
  {
   "cell_type": "code",
   "execution_count": 3,
   "id": "a5db26af",
   "metadata": {
    "execution": {
     "iopub.execute_input": "2022-07-30T07:36:13.704522Z",
     "iopub.status.busy": "2022-07-30T07:36:13.703836Z",
     "iopub.status.idle": "2022-07-30T07:36:13.707070Z",
     "shell.execute_reply": "2022-07-30T07:36:13.707516Z",
     "shell.execute_reply.started": "2022-07-30T05:34:58.725763Z"
    },
    "papermill": {
     "duration": 0.060231,
     "end_time": "2022-07-30T07:36:13.707648",
     "exception": false,
     "start_time": "2022-07-30T07:36:13.647417",
     "status": "completed"
    },
    "tags": []
   },
   "outputs": [
    {
     "name": "stdout",
     "output_type": "stream",
     "text": [
      "Shape of Train data (1549, 7)\n",
      "Shape of Test data (45, 7)\n"
     ]
    }
   ],
   "source": [
    "print('Shape of Train data',train_data.shape)\n",
    "print('Shape of Test data',test_data.shape)"
   ]
  },
  {
   "cell_type": "code",
   "execution_count": 4,
   "id": "99c72c1f",
   "metadata": {
    "execution": {
     "iopub.execute_input": "2022-07-30T07:36:13.818592Z",
     "iopub.status.busy": "2022-07-30T07:36:13.817866Z",
     "iopub.status.idle": "2022-07-30T07:36:13.830860Z",
     "shell.execute_reply": "2022-07-30T07:36:13.830459Z",
     "shell.execute_reply.started": "2022-07-30T05:35:02.216332Z"
    },
    "papermill": {
     "duration": 0.07072,
     "end_time": "2022-07-30T07:36:13.830967",
     "exception": false,
     "start_time": "2022-07-30T07:36:13.760247",
     "status": "completed"
    },
    "tags": []
   },
   "outputs": [
    {
     "data": {
      "text/html": [
       "<div>\n",
       "<style scoped>\n",
       "    .dataframe tbody tr th:only-of-type {\n",
       "        vertical-align: middle;\n",
       "    }\n",
       "\n",
       "    .dataframe tbody tr th {\n",
       "        vertical-align: top;\n",
       "    }\n",
       "\n",
       "    .dataframe thead th {\n",
       "        text-align: right;\n",
       "    }\n",
       "</style>\n",
       "<table border=\"1\" class=\"dataframe\">\n",
       "  <thead>\n",
       "    <tr style=\"text-align: right;\">\n",
       "      <th></th>\n",
       "      <th>Patient</th>\n",
       "      <th>Weeks</th>\n",
       "      <th>FVC</th>\n",
       "      <th>Percent</th>\n",
       "      <th>Age</th>\n",
       "      <th>Sex</th>\n",
       "      <th>SmokingStatus</th>\n",
       "    </tr>\n",
       "  </thead>\n",
       "  <tbody>\n",
       "    <tr>\n",
       "      <th>0</th>\n",
       "      <td>ID00007637202177411956430</td>\n",
       "      <td>-4</td>\n",
       "      <td>2315</td>\n",
       "      <td>58.253649</td>\n",
       "      <td>79</td>\n",
       "      <td>Male</td>\n",
       "      <td>Ex-smoker</td>\n",
       "    </tr>\n",
       "    <tr>\n",
       "      <th>1</th>\n",
       "      <td>ID00007637202177411956430</td>\n",
       "      <td>5</td>\n",
       "      <td>2214</td>\n",
       "      <td>55.712129</td>\n",
       "      <td>79</td>\n",
       "      <td>Male</td>\n",
       "      <td>Ex-smoker</td>\n",
       "    </tr>\n",
       "    <tr>\n",
       "      <th>2</th>\n",
       "      <td>ID00007637202177411956430</td>\n",
       "      <td>7</td>\n",
       "      <td>2061</td>\n",
       "      <td>51.862104</td>\n",
       "      <td>79</td>\n",
       "      <td>Male</td>\n",
       "      <td>Ex-smoker</td>\n",
       "    </tr>\n",
       "    <tr>\n",
       "      <th>3</th>\n",
       "      <td>ID00007637202177411956430</td>\n",
       "      <td>9</td>\n",
       "      <td>2144</td>\n",
       "      <td>53.950679</td>\n",
       "      <td>79</td>\n",
       "      <td>Male</td>\n",
       "      <td>Ex-smoker</td>\n",
       "    </tr>\n",
       "    <tr>\n",
       "      <th>4</th>\n",
       "      <td>ID00007637202177411956430</td>\n",
       "      <td>11</td>\n",
       "      <td>2069</td>\n",
       "      <td>52.063412</td>\n",
       "      <td>79</td>\n",
       "      <td>Male</td>\n",
       "      <td>Ex-smoker</td>\n",
       "    </tr>\n",
       "  </tbody>\n",
       "</table>\n",
       "</div>"
      ],
      "text/plain": [
       "                     Patient  Weeks   FVC    Percent  Age   Sex SmokingStatus\n",
       "0  ID00007637202177411956430     -4  2315  58.253649   79  Male     Ex-smoker\n",
       "1  ID00007637202177411956430      5  2214  55.712129   79  Male     Ex-smoker\n",
       "2  ID00007637202177411956430      7  2061  51.862104   79  Male     Ex-smoker\n",
       "3  ID00007637202177411956430      9  2144  53.950679   79  Male     Ex-smoker\n",
       "4  ID00007637202177411956430     11  2069  52.063412   79  Male     Ex-smoker"
      ]
     },
     "execution_count": 4,
     "metadata": {},
     "output_type": "execute_result"
    }
   ],
   "source": [
    "train_data.head()"
   ]
  },
  {
   "cell_type": "code",
   "execution_count": 5,
   "id": "7efee4bc",
   "metadata": {
    "execution": {
     "iopub.execute_input": "2022-07-30T07:36:13.943515Z",
     "iopub.status.busy": "2022-07-30T07:36:13.942828Z",
     "iopub.status.idle": "2022-07-30T07:36:13.945617Z",
     "shell.execute_reply": "2022-07-30T07:36:13.946159Z",
     "shell.execute_reply.started": "2022-07-30T05:35:07.459873Z"
    },
    "papermill": {
     "duration": 0.064542,
     "end_time": "2022-07-30T07:36:13.946345",
     "exception": false,
     "start_time": "2022-07-30T07:36:13.881803",
     "status": "completed"
    },
    "tags": []
   },
   "outputs": [
    {
     "data": {
      "text/html": [
       "<div>\n",
       "<style scoped>\n",
       "    .dataframe tbody tr th:only-of-type {\n",
       "        vertical-align: middle;\n",
       "    }\n",
       "\n",
       "    .dataframe tbody tr th {\n",
       "        vertical-align: top;\n",
       "    }\n",
       "\n",
       "    .dataframe thead th {\n",
       "        text-align: right;\n",
       "    }\n",
       "</style>\n",
       "<table border=\"1\" class=\"dataframe\">\n",
       "  <thead>\n",
       "    <tr style=\"text-align: right;\">\n",
       "      <th></th>\n",
       "      <th>Patient</th>\n",
       "      <th>Weeks</th>\n",
       "      <th>FVC</th>\n",
       "      <th>Percent</th>\n",
       "      <th>Age</th>\n",
       "      <th>Sex</th>\n",
       "      <th>SmokingStatus</th>\n",
       "    </tr>\n",
       "  </thead>\n",
       "  <tbody>\n",
       "    <tr>\n",
       "      <th>0</th>\n",
       "      <td>ID00076637202199015035026</td>\n",
       "      <td>-4</td>\n",
       "      <td>2298</td>\n",
       "      <td>52.749977</td>\n",
       "      <td>51</td>\n",
       "      <td>Male</td>\n",
       "      <td>Never smoked</td>\n",
       "    </tr>\n",
       "    <tr>\n",
       "      <th>1</th>\n",
       "      <td>ID00076637202199015035026</td>\n",
       "      <td>3</td>\n",
       "      <td>2576</td>\n",
       "      <td>59.131393</td>\n",
       "      <td>51</td>\n",
       "      <td>Male</td>\n",
       "      <td>Never smoked</td>\n",
       "    </tr>\n",
       "    <tr>\n",
       "      <th>2</th>\n",
       "      <td>ID00076637202199015035026</td>\n",
       "      <td>5</td>\n",
       "      <td>2182</td>\n",
       "      <td>50.087228</td>\n",
       "      <td>51</td>\n",
       "      <td>Male</td>\n",
       "      <td>Never smoked</td>\n",
       "    </tr>\n",
       "    <tr>\n",
       "      <th>3</th>\n",
       "      <td>ID00076637202199015035026</td>\n",
       "      <td>6</td>\n",
       "      <td>2374</td>\n",
       "      <td>54.494537</td>\n",
       "      <td>51</td>\n",
       "      <td>Male</td>\n",
       "      <td>Never smoked</td>\n",
       "    </tr>\n",
       "    <tr>\n",
       "      <th>4</th>\n",
       "      <td>ID00076637202199015035026</td>\n",
       "      <td>9</td>\n",
       "      <td>2370</td>\n",
       "      <td>54.402718</td>\n",
       "      <td>51</td>\n",
       "      <td>Male</td>\n",
       "      <td>Never smoked</td>\n",
       "    </tr>\n",
       "  </tbody>\n",
       "</table>\n",
       "</div>"
      ],
      "text/plain": [
       "                     Patient  Weeks   FVC    Percent  Age   Sex SmokingStatus\n",
       "0  ID00076637202199015035026     -4  2298  52.749977   51  Male  Never smoked\n",
       "1  ID00076637202199015035026      3  2576  59.131393   51  Male  Never smoked\n",
       "2  ID00076637202199015035026      5  2182  50.087228   51  Male  Never smoked\n",
       "3  ID00076637202199015035026      6  2374  54.494537   51  Male  Never smoked\n",
       "4  ID00076637202199015035026      9  2370  54.402718   51  Male  Never smoked"
      ]
     },
     "execution_count": 5,
     "metadata": {},
     "output_type": "execute_result"
    }
   ],
   "source": [
    "test_data.head()"
   ]
  },
  {
   "cell_type": "code",
   "execution_count": 6,
   "id": "e888a941",
   "metadata": {
    "execution": {
     "iopub.execute_input": "2022-07-30T07:36:14.057954Z",
     "iopub.status.busy": "2022-07-30T07:36:14.055673Z",
     "iopub.status.idle": "2022-07-30T07:36:14.061435Z",
     "shell.execute_reply": "2022-07-30T07:36:14.060749Z",
     "shell.execute_reply.started": "2022-07-30T05:35:37.904205Z"
    },
    "papermill": {
     "duration": 0.064368,
     "end_time": "2022-07-30T07:36:14.061590",
     "exception": false,
     "start_time": "2022-07-30T07:36:13.997222",
     "status": "completed"
    },
    "tags": []
   },
   "outputs": [
    {
     "data": {
      "text/plain": [
       "array(['Ex-smoker', 'Never smoked', 'Currently smokes'], dtype=object)"
      ]
     },
     "execution_count": 6,
     "metadata": {},
     "output_type": "execute_result"
    }
   ],
   "source": [
    "train_data[\"SmokingStatus\"].unique()"
   ]
  },
  {
   "cell_type": "markdown",
   "id": "bebf4141",
   "metadata": {
    "papermill": {
     "duration": 0.050913,
     "end_time": "2022-07-30T07:36:14.164758",
     "exception": false,
     "start_time": "2022-07-30T07:36:14.113845",
     "status": "completed"
    },
    "tags": []
   },
   "source": [
    "Columns Details in train.csv and test.csv\n",
    "* Patient - a unique Id for each patient (also the name of the patient's DICOM folder)\n",
    "* Weeks - the relative number of weeks pre/post the baseline CT (may be negative)\n",
    "* FVC - the recorded lung capacity in ml\n",
    "* Percent - a computed field which approximates the patient's FVC as a percent of the typical FVC for a person of similar characteristics\n",
    "* Age - Age of the patient\n",
    "* Sex - Gender of the patient\n",
    "* SmokingStatus - Smoking Status of the patient (i.e Ex-Smoker,Never smoked,Currently smokes)"
   ]
  },
  {
   "cell_type": "markdown",
   "id": "a26fd842",
   "metadata": {
    "papermill": {
     "duration": 0.050596,
     "end_time": "2022-07-30T07:36:14.266390",
     "exception": false,
     "start_time": "2022-07-30T07:36:14.215794",
     "status": "completed"
    },
    "tags": []
   },
   "source": [
    "<font size='4'>Loading patient's CT Scan images from train folder</font>"
   ]
  },
  {
   "cell_type": "markdown",
   "id": "9831fe87",
   "metadata": {
    "papermill": {
     "duration": 0.050789,
     "end_time": "2022-07-30T07:36:14.367437",
     "exception": false,
     "start_time": "2022-07-30T07:36:14.316648",
     "status": "completed"
    },
    "tags": []
   },
   "source": [
    "<font size='3'>We are provided with baseline chest CT Scan images of each patient at a weeks intervals</font>     \n",
    "\n",
    "\n",
    "<font size='3'>DICOM(Digital Imaging and COmmunications in Medicine) is the de-facto standard that establishes rules that allow medical images(X-Ray, MRI, CT) and associated information to be exchanged between imaging equipment from different vendors, computers, and hospitals.DICOM files typically have a .dcm extension and provides a means of storing data in separate 'tags' such as patient information as well as image/pixel data. A DICOM file consists of a header and image data sets packed into a single file. The information within the header is organized as a constant and standardized series of tags.By extracting data from these tags one can access important information regarding the patient demographics, study parameters, etc.</font>\n",
    "\n",
    "<font size='4'>Pydicom</font>\n",
    "\n",
    "<font size='3'>Pydicom is a python package for parsing DICOM files and makes it easy to covert DICOM files into pythonic structures for easier manipulation. Files are opened using pydicom.dcmread</font>"
   ]
  },
  {
   "cell_type": "code",
   "execution_count": 7,
   "id": "107f43ea",
   "metadata": {
    "execution": {
     "iopub.execute_input": "2022-07-30T07:36:14.472228Z",
     "iopub.status.busy": "2022-07-30T07:36:14.471445Z",
     "iopub.status.idle": "2022-07-30T07:36:14.475857Z",
     "shell.execute_reply": "2022-07-30T07:36:14.475426Z",
     "shell.execute_reply.started": "2022-07-30T05:35:43.525925Z"
    },
    "papermill": {
     "duration": 0.057263,
     "end_time": "2022-07-30T07:36:14.475961",
     "exception": false,
     "start_time": "2022-07-30T07:36:14.418698",
     "status": "completed"
    },
    "tags": []
   },
   "outputs": [],
   "source": [
    "#FETCH UNIQUE PATIENT IDs\n",
    "Patient_list=train_data[\"Patient\"].unique()"
   ]
  },
  {
   "cell_type": "code",
   "execution_count": 8,
   "id": "9d921cdc",
   "metadata": {
    "execution": {
     "iopub.execute_input": "2022-07-30T07:36:14.587008Z",
     "iopub.status.busy": "2022-07-30T07:36:14.586338Z",
     "iopub.status.idle": "2022-07-30T07:36:26.725934Z",
     "shell.execute_reply": "2022-07-30T07:36:26.726360Z",
     "shell.execute_reply.started": "2022-07-30T05:35:46.798307Z"
    },
    "papermill": {
     "duration": 12.198972,
     "end_time": "2022-07-30T07:36:26.726511",
     "exception": false,
     "start_time": "2022-07-30T07:36:14.527539",
     "status": "completed"
    },
    "tags": []
   },
   "outputs": [
    {
     "data": {
      "image/png": "[encoded data removed]",
      "text/plain": [
       "<Figure size 720x720 with 71 Axes>"
      ]
     },
     "metadata": {
      "needs_background": "light"
     },
     "output_type": "display_data"
    }
   ],
   "source": [
    "def getDcms(patient,type):\n",
    "    image_dir = f\"{Path}/{type}/{patient}\"\n",
    "    fig=plt.figure(figsize=(10,10))\n",
    "    image_list = os.listdir(image_dir)\n",
    "    columns = int(np.sqrt(len(image_list)))#8 \n",
    "    rows = columns+1#9\n",
    "    dcms=[]\n",
    "    for i in range(1, len(image_list) +1):\n",
    "        ds = pydicom.dcmread(image_dir + \"/\" + str(i) + \".dcm\")\n",
    "        dcms.append(ds.pixel_array)\n",
    "        fig.add_subplot(rows,columns,i)\n",
    "        plt.imshow(ds.pixel_array)\n",
    "    return dcms\n",
    "\n",
    "img_list=getDcms(Patient_list[50],\"train\" )#displaying 50th patient ct scans"
   ]
  },
  {
   "cell_type": "markdown",
   "id": "2414013c",
   "metadata": {
    "papermill": {
     "duration": 0.057615,
     "end_time": "2022-07-30T07:36:26.839290",
     "exception": false,
     "start_time": "2022-07-30T07:36:26.781675",
     "status": "completed"
    },
    "tags": []
   },
   "source": [
    "<font size='5'>**Data Preprocessing**</font>"
   ]
  },
  {
   "cell_type": "code",
   "execution_count": 9,
   "id": "540d302f",
   "metadata": {
    "execution": {
     "iopub.execute_input": "2022-07-30T07:36:26.963988Z",
     "iopub.status.busy": "2022-07-30T07:36:26.963088Z",
     "iopub.status.idle": "2022-07-30T07:36:26.968603Z",
     "shell.execute_reply": "2022-07-30T07:36:26.968136Z",
     "shell.execute_reply.started": "2022-07-30T05:36:09.715262Z"
    },
    "papermill": {
     "duration": 0.070772,
     "end_time": "2022-07-30T07:36:26.968712",
     "exception": false,
     "start_time": "2022-07-30T07:36:26.897940",
     "status": "completed"
    },
    "tags": []
   },
   "outputs": [
    {
     "data": {
      "text/plain": [
       "Patient          0\n",
       "Weeks            0\n",
       "FVC              0\n",
       "Percent          0\n",
       "Age              0\n",
       "Sex              0\n",
       "SmokingStatus    0\n",
       "dtype: int64"
      ]
     },
     "execution_count": 9,
     "metadata": {},
     "output_type": "execute_result"
    }
   ],
   "source": [
    "#Check for missing values\n",
    "train_data.isnull().sum()"
   ]
  },
  {
   "cell_type": "code",
   "execution_count": 10,
   "id": "8df30683",
   "metadata": {
    "execution": {
     "iopub.execute_input": "2022-07-30T07:36:27.083054Z",
     "iopub.status.busy": "2022-07-30T07:36:27.082248Z",
     "iopub.status.idle": "2022-07-30T07:36:27.089456Z",
     "shell.execute_reply": "2022-07-30T07:36:27.088999Z",
     "shell.execute_reply.started": "2022-07-30T05:36:14.389030Z"
    },
    "papermill": {
     "duration": 0.066158,
     "end_time": "2022-07-30T07:36:27.089568",
     "exception": false,
     "start_time": "2022-07-30T07:36:27.023410",
     "status": "completed"
    },
    "tags": []
   },
   "outputs": [],
   "source": [
    "#Drop records having same Patient ID and week\n",
    "train_data.drop_duplicates(subset=['Patient', 'Weeks'], keep=False, inplace=True)"
   ]
  },
  {
   "cell_type": "code",
   "execution_count": 11,
   "id": "fa501721",
   "metadata": {
    "execution": {
     "iopub.execute_input": "2022-07-30T07:36:27.203309Z",
     "iopub.status.busy": "2022-07-30T07:36:27.202668Z",
     "iopub.status.idle": "2022-07-30T07:36:27.205278Z",
     "shell.execute_reply": "2022-07-30T07:36:27.205689Z",
     "shell.execute_reply.started": "2022-07-30T05:36:19.343335Z"
    },
    "papermill": {
     "duration": 0.061228,
     "end_time": "2022-07-30T07:36:27.205819",
     "exception": false,
     "start_time": "2022-07-30T07:36:27.144591",
     "status": "completed"
    },
    "tags": []
   },
   "outputs": [
    {
     "data": {
      "text/plain": [
       "(1535, 7)"
      ]
     },
     "execution_count": 11,
     "metadata": {},
     "output_type": "execute_result"
    }
   ],
   "source": [
    "train_data.shape"
   ]
  },
  {
   "cell_type": "code",
   "execution_count": 12,
   "id": "541ef612",
   "metadata": {
    "execution": {
     "iopub.execute_input": "2022-07-30T07:36:27.318450Z",
     "iopub.status.busy": "2022-07-30T07:36:27.317679Z",
     "iopub.status.idle": "2022-07-30T07:36:27.526270Z",
     "shell.execute_reply": "2022-07-30T07:36:27.526702Z",
     "shell.execute_reply.started": "2022-07-30T05:36:25.191825Z"
    },
    "papermill": {
     "duration": 0.266432,
     "end_time": "2022-07-30T07:36:27.526841",
     "exception": false,
     "start_time": "2022-07-30T07:36:27.260409",
     "status": "completed"
    },
    "tags": []
   },
   "outputs": [
    {
     "data": {
      "text/html": [
       "<div>\n",
       "<style scoped>\n",
       "    .dataframe tbody tr th:only-of-type {\n",
       "        vertical-align: middle;\n",
       "    }\n",
       "\n",
       "    .dataframe tbody tr th {\n",
       "        vertical-align: top;\n",
       "    }\n",
       "\n",
       "    .dataframe thead th {\n",
       "        text-align: right;\n",
       "    }\n",
       "</style>\n",
       "<table border=\"1\" class=\"dataframe\">\n",
       "  <thead>\n",
       "    <tr style=\"text-align: right;\">\n",
       "      <th></th>\n",
       "      <th>PatientID</th>\n",
       "      <th>BaselineWeek</th>\n",
       "      <th>BaselineFVC</th>\n",
       "      <th>Age</th>\n",
       "      <th>Sex</th>\n",
       "      <th>SmokingStatus</th>\n",
       "      <th>TargetWeek</th>\n",
       "      <th>TargetFVC</th>\n",
       "    </tr>\n",
       "  </thead>\n",
       "  <tbody>\n",
       "    <tr>\n",
       "      <th>0</th>\n",
       "      <td>ID00007637202177411956430</td>\n",
       "      <td>-4</td>\n",
       "      <td>2315</td>\n",
       "      <td>79</td>\n",
       "      <td>Male</td>\n",
       "      <td>Ex-smoker</td>\n",
       "      <td>5</td>\n",
       "      <td>2315</td>\n",
       "    </tr>\n",
       "    <tr>\n",
       "      <th>1</th>\n",
       "      <td>ID00007637202177411956430</td>\n",
       "      <td>-4</td>\n",
       "      <td>2315</td>\n",
       "      <td>79</td>\n",
       "      <td>Male</td>\n",
       "      <td>Ex-smoker</td>\n",
       "      <td>7</td>\n",
       "      <td>2214</td>\n",
       "    </tr>\n",
       "    <tr>\n",
       "      <th>2</th>\n",
       "      <td>ID00007637202177411956430</td>\n",
       "      <td>-4</td>\n",
       "      <td>2315</td>\n",
       "      <td>79</td>\n",
       "      <td>Male</td>\n",
       "      <td>Ex-smoker</td>\n",
       "      <td>9</td>\n",
       "      <td>2061</td>\n",
       "    </tr>\n",
       "    <tr>\n",
       "      <th>3</th>\n",
       "      <td>ID00007637202177411956430</td>\n",
       "      <td>-4</td>\n",
       "      <td>2315</td>\n",
       "      <td>79</td>\n",
       "      <td>Male</td>\n",
       "      <td>Ex-smoker</td>\n",
       "      <td>11</td>\n",
       "      <td>2144</td>\n",
       "    </tr>\n",
       "    <tr>\n",
       "      <th>4</th>\n",
       "      <td>ID00007637202177411956430</td>\n",
       "      <td>-4</td>\n",
       "      <td>2315</td>\n",
       "      <td>79</td>\n",
       "      <td>Male</td>\n",
       "      <td>Ex-smoker</td>\n",
       "      <td>17</td>\n",
       "      <td>2069</td>\n",
       "    </tr>\n",
       "  </tbody>\n",
       "</table>\n",
       "</div>"
      ],
      "text/plain": [
       "                   PatientID  BaselineWeek  BaselineFVC  Age   Sex  \\\n",
       "0  ID00007637202177411956430            -4         2315   79  Male   \n",
       "1  ID00007637202177411956430            -4         2315   79  Male   \n",
       "2  ID00007637202177411956430            -4         2315   79  Male   \n",
       "3  ID00007637202177411956430            -4         2315   79  Male   \n",
       "4  ID00007637202177411956430            -4         2315   79  Male   \n",
       "\n",
       "  SmokingStatus  TargetWeek  TargetFVC  \n",
       "0     Ex-smoker           5       2315  \n",
       "1     Ex-smoker           7       2214  \n",
       "2     Ex-smoker           9       2061  \n",
       "3     Ex-smoker          11       2144  \n",
       "4     Ex-smoker          17       2069  "
      ]
     },
     "execution_count": 12,
     "metadata": {},
     "output_type": "execute_result"
    }
   ],
   "source": [
    "#GENERATE NEW COLUMNS LIKE BaslineWeek,BaselineFVC,TargetWeek,TargetFVC\n",
    "train_new = []\n",
    "for p in train_data['Patient'].unique():\n",
    "    patientData = train_data[train_data['Patient'] == p]\n",
    "    firstMeasure = list(patientData.iloc[0, :].values)\n",
    "  \n",
    "    for i, week in enumerate(patientData['Weeks'].iloc[1:]):\n",
    "        fvc = patientData.iloc[i, 2]\n",
    "        trainDataPoint = firstMeasure + [week, fvc]\n",
    "        train_new.append(trainDataPoint)\n",
    "    \n",
    "        \n",
    "train_new = pd.DataFrame(train_new)\n",
    "\n",
    "train_new.columns = ['PatientID', 'BaselineWeek', 'BaselineFVC', 'first_Percent', 'Age', 'Sex', 'SmokingStatus'] + ['TargetWeek', 'TargetFVC']\n",
    "\n",
    "#Dropping percent column since it was increasing the loss\n",
    "train_new.drop(columns = ['first_Percent'], inplace = True)\n",
    "\n",
    "train_new.head()"
   ]
  },
  {
   "cell_type": "code",
   "execution_count": 13,
   "id": "e4b52228",
   "metadata": {
    "execution": {
     "iopub.execute_input": "2022-07-30T07:36:27.643529Z",
     "iopub.status.busy": "2022-07-30T07:36:27.642907Z",
     "iopub.status.idle": "2022-07-30T07:36:27.645547Z",
     "shell.execute_reply": "2022-07-30T07:36:27.645949Z",
     "shell.execute_reply.started": "2022-07-30T05:36:36.554294Z"
    },
    "papermill": {
     "duration": 0.062826,
     "end_time": "2022-07-30T07:36:27.646078",
     "exception": false,
     "start_time": "2022-07-30T07:36:27.583252",
     "status": "completed"
    },
    "tags": []
   },
   "outputs": [
    {
     "data": {
      "text/plain": [
       "(1359, 8)"
      ]
     },
     "execution_count": 13,
     "metadata": {},
     "output_type": "execute_result"
    }
   ],
   "source": [
    "train_new.shape"
   ]
  },
  {
   "cell_type": "markdown",
   "id": "1f039b6d",
   "metadata": {
    "papermill": {
     "duration": 0.055175,
     "end_time": "2022-07-30T07:36:27.756854",
     "exception": false,
     "start_time": "2022-07-30T07:36:27.701679",
     "status": "completed"
    },
    "tags": []
   },
   "source": [
    "<font size='5'>Image Preprocessing</font>"
   ]
  },
  {
   "cell_type": "markdown",
   "id": "10de0b82",
   "metadata": {
    "papermill": {
     "duration": 0.054844,
     "end_time": "2022-07-30T07:36:27.867597",
     "exception": false,
     "start_time": "2022-07-30T07:36:27.812753",
     "status": "completed"
    },
    "tags": []
   },
   "source": [
    "<font size='4'>Fetch the CT Scan from the patient's folder for the given target week</font>"
   ]
  },
  {
   "cell_type": "code",
   "execution_count": 14,
   "id": "09890286",
   "metadata": {
    "execution": {
     "iopub.execute_input": "2022-07-30T07:36:27.986658Z",
     "iopub.status.busy": "2022-07-30T07:36:27.985831Z",
     "iopub.status.idle": "2022-07-30T07:36:27.987738Z",
     "shell.execute_reply": "2022-07-30T07:36:27.988115Z",
     "shell.execute_reply.started": "2022-07-30T05:37:19.511818Z"
    },
    "papermill": {
     "duration": 0.065111,
     "end_time": "2022-07-30T07:36:27.988259",
     "exception": false,
     "start_time": "2022-07-30T07:36:27.923148",
     "status": "completed"
    },
    "tags": []
   },
   "outputs": [],
   "source": [
    "def get_Weeks_Dcms(type):\n",
    "    fig=plt.figure(figsize=(10,10))\n",
    "    dcms=[]\n",
    "    plist=[]\n",
    "    wlist=[]\n",
    "    for p in Patient_list:\n",
    "        image_dir = f\"{Path}/{type}/{p}\"\n",
    "        week=train_new[train_new[\"PatientID\"]==p][\"TargetWeek\"]\n",
    "        for w in week:\n",
    "            try:\n",
    "                ds = pydicom.dcmread(image_dir + \"/\" + str(w) + \".dcm\")\n",
    "                dcms.append(ds.pixel_array)\n",
    "                #plt.imshow(ds.pixel_array)\n",
    "                plist.append(p)\n",
    "                wlist.append(w)\n",
    "            except:\n",
    "                pass\n",
    "    data = pd.DataFrame({\"PatientID\":plist,\"TargetWeek\":wlist})        \n",
    "    return dcms,data"
   ]
  },
  {
   "cell_type": "code",
   "execution_count": 15,
   "id": "006f6299",
   "metadata": {
    "execution": {
     "iopub.execute_input": "2022-07-30T07:36:28.104687Z",
     "iopub.status.busy": "2022-07-30T07:36:28.104100Z",
     "iopub.status.idle": "2022-07-30T07:36:43.564034Z",
     "shell.execute_reply": "2022-07-30T07:36:43.565077Z",
     "shell.execute_reply.started": "2022-07-30T05:37:26.978854Z"
    },
    "papermill": {
     "duration": 15.521497,
     "end_time": "2022-07-30T07:36:43.565363",
     "exception": false,
     "start_time": "2022-07-30T07:36:28.043866",
     "status": "completed"
    },
    "tags": []
   },
   "outputs": [
    {
     "data": {
      "text/plain": [
       "<Figure size 720x720 with 0 Axes>"
      ]
     },
     "metadata": {},
     "output_type": "display_data"
    }
   ],
   "source": [
    "train_img,train_patweek=get_Weeks_Dcms(\"train\")"
   ]
  },
  {
   "cell_type": "code",
   "execution_count": 16,
   "id": "129899a2",
   "metadata": {
    "execution": {
     "iopub.execute_input": "2022-07-30T07:36:43.685927Z",
     "iopub.status.busy": "2022-07-30T07:36:43.685149Z",
     "iopub.status.idle": "2022-07-30T07:36:44.879753Z",
     "shell.execute_reply": "2022-07-30T07:36:44.879187Z",
     "shell.execute_reply.started": "2022-07-30T05:37:36.095358Z"
    },
    "papermill": {
     "duration": 1.25775,
     "end_time": "2022-07-30T07:36:44.879876",
     "exception": false,
     "start_time": "2022-07-30T07:36:43.622126",
     "status": "completed"
    },
    "tags": []
   },
   "outputs": [],
   "source": [
    "#Resizing the images\n",
    "for i in range(0,len(train_img)):\n",
    "    im = Image.fromarray(train_img[i])\n",
    "    im = im.resize((128,128),resample=Image.NEAREST) \n",
    "    train_img[i] = np.array(im).reshape((128,128,1))"
   ]
  },
  {
   "cell_type": "code",
   "execution_count": 17,
   "id": "3dc85138",
   "metadata": {
    "execution": {
     "iopub.execute_input": "2022-07-30T07:36:44.997752Z",
     "iopub.status.busy": "2022-07-30T07:36:44.997169Z",
     "iopub.status.idle": "2022-07-30T07:36:44.999913Z",
     "shell.execute_reply": "2022-07-30T07:36:45.000513Z",
     "shell.execute_reply.started": "2022-07-30T05:37:40.616982Z"
    },
    "papermill": {
     "duration": 0.063557,
     "end_time": "2022-07-30T07:36:45.000684",
     "exception": false,
     "start_time": "2022-07-30T07:36:44.937127",
     "status": "completed"
    },
    "tags": []
   },
   "outputs": [
    {
     "name": "stdout",
     "output_type": "stream",
     "text": [
      "1096\n",
      "(1096, 2)\n"
     ]
    }
   ],
   "source": [
    "print(len(train_img))\n",
    "print(train_patweek.shape)"
   ]
  },
  {
   "cell_type": "code",
   "execution_count": 18,
   "id": "7d6cf410",
   "metadata": {
    "execution": {
     "iopub.execute_input": "2022-07-30T07:36:45.120702Z",
     "iopub.status.busy": "2022-07-30T07:36:45.119736Z",
     "iopub.status.idle": "2022-07-30T07:36:45.138015Z",
     "shell.execute_reply": "2022-07-30T07:36:45.136973Z",
     "shell.execute_reply.started": "2022-07-30T05:37:46.939352Z"
    },
    "papermill": {
     "duration": 0.080036,
     "end_time": "2022-07-30T07:36:45.138147",
     "exception": false,
     "start_time": "2022-07-30T07:36:45.058111",
     "status": "completed"
    },
    "tags": []
   },
   "outputs": [],
   "source": [
    "train_img=np.array(train_img)"
   ]
  },
  {
   "cell_type": "code",
   "execution_count": 19,
   "id": "151a9b95",
   "metadata": {
    "execution": {
     "iopub.execute_input": "2022-07-30T07:36:45.258066Z",
     "iopub.status.busy": "2022-07-30T07:36:45.257250Z",
     "iopub.status.idle": "2022-07-30T07:36:45.267486Z",
     "shell.execute_reply": "2022-07-30T07:36:45.267867Z",
     "shell.execute_reply.started": "2022-07-30T05:37:53.603253Z"
    },
    "papermill": {
     "duration": 0.071994,
     "end_time": "2022-07-30T07:36:45.267999",
     "exception": false,
     "start_time": "2022-07-30T07:36:45.196005",
     "status": "completed"
    },
    "tags": []
   },
   "outputs": [],
   "source": [
    "train_new = pd.merge(train_patweek,train_new, how=\"left\", on=['PatientID',\"TargetWeek\"])"
   ]
  },
  {
   "cell_type": "code",
   "execution_count": 20,
   "id": "247c1cfb",
   "metadata": {
    "execution": {
     "iopub.execute_input": "2022-07-30T07:36:45.384988Z",
     "iopub.status.busy": "2022-07-30T07:36:45.384494Z",
     "iopub.status.idle": "2022-07-30T07:36:45.389621Z",
     "shell.execute_reply": "2022-07-30T07:36:45.389081Z",
     "shell.execute_reply.started": "2022-07-30T05:37:57.114735Z"
    },
    "papermill": {
     "duration": 0.06526,
     "end_time": "2022-07-30T07:36:45.389746",
     "exception": false,
     "start_time": "2022-07-30T07:36:45.324486",
     "status": "completed"
    },
    "tags": []
   },
   "outputs": [
    {
     "data": {
      "text/plain": [
       "(1096, 8)"
      ]
     },
     "execution_count": 20,
     "metadata": {},
     "output_type": "execute_result"
    }
   ],
   "source": [
    "train_new.shape"
   ]
  },
  {
   "cell_type": "code",
   "execution_count": 21,
   "id": "3aaad64b",
   "metadata": {
    "execution": {
     "iopub.execute_input": "2022-07-30T07:36:45.508897Z",
     "iopub.status.busy": "2022-07-30T07:36:45.508068Z",
     "iopub.status.idle": "2022-07-30T07:36:45.510948Z",
     "shell.execute_reply": "2022-07-30T07:36:45.511544Z",
     "shell.execute_reply.started": "2022-07-30T05:38:02.153722Z"
    },
    "papermill": {
     "duration": 0.065375,
     "end_time": "2022-07-30T07:36:45.511733",
     "exception": false,
     "start_time": "2022-07-30T07:36:45.446358",
     "status": "completed"
    },
    "tags": []
   },
   "outputs": [
    {
     "name": "stdout",
     "output_type": "stream",
     "text": [
      "(1096, 128, 128, 1)\n"
     ]
    }
   ],
   "source": [
    "print(train_img.shape)"
   ]
  },
  {
   "cell_type": "code",
   "execution_count": 22,
   "id": "12752ffb",
   "metadata": {
    "execution": {
     "iopub.execute_input": "2022-07-30T07:36:45.634310Z",
     "iopub.status.busy": "2022-07-30T07:36:45.632963Z",
     "iopub.status.idle": "2022-07-30T07:36:45.636676Z",
     "shell.execute_reply": "2022-07-30T07:36:45.636230Z",
     "shell.execute_reply.started": "2022-07-30T05:38:05.221209Z"
    },
    "papermill": {
     "duration": 0.067243,
     "end_time": "2022-07-30T07:36:45.636784",
     "exception": false,
     "start_time": "2022-07-30T07:36:45.569541",
     "status": "completed"
    },
    "tags": []
   },
   "outputs": [],
   "source": [
    "#ENCODING Sex and SmokingStatus\n",
    "train_new[\"Sex\"]=train_new[\"Sex\"].astype(\"category\").cat.codes\n",
    "train_new[\"SmokingStatus\"]=train_new[\"SmokingStatus\"].astype(\"category\").cat.codes"
   ]
  },
  {
   "cell_type": "code",
   "execution_count": 23,
   "id": "40d76b72",
   "metadata": {
    "execution": {
     "iopub.execute_input": "2022-07-30T07:36:45.762051Z",
     "iopub.status.busy": "2022-07-30T07:36:45.761500Z",
     "iopub.status.idle": "2022-07-30T07:36:45.767241Z",
     "shell.execute_reply": "2022-07-30T07:36:45.766711Z",
     "shell.execute_reply.started": "2022-07-30T05:38:08.804663Z"
    },
    "papermill": {
     "duration": 0.073092,
     "end_time": "2022-07-30T07:36:45.767377",
     "exception": false,
     "start_time": "2022-07-30T07:36:45.694285",
     "status": "completed"
    },
    "tags": []
   },
   "outputs": [
    {
     "data": {
      "text/html": [
       "<div>\n",
       "<style scoped>\n",
       "    .dataframe tbody tr th:only-of-type {\n",
       "        vertical-align: middle;\n",
       "    }\n",
       "\n",
       "    .dataframe tbody tr th {\n",
       "        vertical-align: top;\n",
       "    }\n",
       "\n",
       "    .dataframe thead th {\n",
       "        text-align: right;\n",
       "    }\n",
       "</style>\n",
       "<table border=\"1\" class=\"dataframe\">\n",
       "  <thead>\n",
       "    <tr style=\"text-align: right;\">\n",
       "      <th></th>\n",
       "      <th>PatientID</th>\n",
       "      <th>TargetWeek</th>\n",
       "      <th>BaselineWeek</th>\n",
       "      <th>BaselineFVC</th>\n",
       "      <th>Age</th>\n",
       "      <th>Sex</th>\n",
       "      <th>SmokingStatus</th>\n",
       "      <th>TargetFVC</th>\n",
       "    </tr>\n",
       "  </thead>\n",
       "  <tbody>\n",
       "    <tr>\n",
       "      <th>0</th>\n",
       "      <td>ID00007637202177411956430</td>\n",
       "      <td>5</td>\n",
       "      <td>-4</td>\n",
       "      <td>2315</td>\n",
       "      <td>79</td>\n",
       "      <td>1</td>\n",
       "      <td>1</td>\n",
       "      <td>2315</td>\n",
       "    </tr>\n",
       "    <tr>\n",
       "      <th>1</th>\n",
       "      <td>ID00007637202177411956430</td>\n",
       "      <td>7</td>\n",
       "      <td>-4</td>\n",
       "      <td>2315</td>\n",
       "      <td>79</td>\n",
       "      <td>1</td>\n",
       "      <td>1</td>\n",
       "      <td>2214</td>\n",
       "    </tr>\n",
       "    <tr>\n",
       "      <th>2</th>\n",
       "      <td>ID00007637202177411956430</td>\n",
       "      <td>9</td>\n",
       "      <td>-4</td>\n",
       "      <td>2315</td>\n",
       "      <td>79</td>\n",
       "      <td>1</td>\n",
       "      <td>1</td>\n",
       "      <td>2061</td>\n",
       "    </tr>\n",
       "    <tr>\n",
       "      <th>3</th>\n",
       "      <td>ID00007637202177411956430</td>\n",
       "      <td>11</td>\n",
       "      <td>-4</td>\n",
       "      <td>2315</td>\n",
       "      <td>79</td>\n",
       "      <td>1</td>\n",
       "      <td>1</td>\n",
       "      <td>2144</td>\n",
       "    </tr>\n",
       "    <tr>\n",
       "      <th>4</th>\n",
       "      <td>ID00007637202177411956430</td>\n",
       "      <td>17</td>\n",
       "      <td>-4</td>\n",
       "      <td>2315</td>\n",
       "      <td>79</td>\n",
       "      <td>1</td>\n",
       "      <td>1</td>\n",
       "      <td>2069</td>\n",
       "    </tr>\n",
       "  </tbody>\n",
       "</table>\n",
       "</div>"
      ],
      "text/plain": [
       "                   PatientID  TargetWeek  BaselineWeek  BaselineFVC  Age  Sex  \\\n",
       "0  ID00007637202177411956430           5            -4         2315   79    1   \n",
       "1  ID00007637202177411956430           7            -4         2315   79    1   \n",
       "2  ID00007637202177411956430           9            -4         2315   79    1   \n",
       "3  ID00007637202177411956430          11            -4         2315   79    1   \n",
       "4  ID00007637202177411956430          17            -4         2315   79    1   \n",
       "\n",
       "   SmokingStatus  TargetFVC  \n",
       "0              1       2315  \n",
       "1              1       2214  \n",
       "2              1       2061  \n",
       "3              1       2144  \n",
       "4              1       2069  "
      ]
     },
     "execution_count": 23,
     "metadata": {},
     "output_type": "execute_result"
    }
   ],
   "source": [
    "train_new.head()"
   ]
  },
  {
   "cell_type": "code",
   "execution_count": 24,
   "id": "f71541e3",
   "metadata": {
    "execution": {
     "iopub.execute_input": "2022-07-30T07:36:45.888167Z",
     "iopub.status.busy": "2022-07-30T07:36:45.887486Z",
     "iopub.status.idle": "2022-07-30T07:36:45.889936Z",
     "shell.execute_reply": "2022-07-30T07:36:45.890342Z",
     "shell.execute_reply.started": "2022-07-30T05:38:15.835607Z"
    },
    "papermill": {
     "duration": 0.06451,
     "end_time": "2022-07-30T07:36:45.890464",
     "exception": false,
     "start_time": "2022-07-30T07:36:45.825954",
     "status": "completed"
    },
    "tags": []
   },
   "outputs": [
    {
     "data": {
      "text/plain": [
       "Index(['PatientID', 'TargetWeek', 'BaselineWeek', 'BaselineFVC', 'Age', 'Sex',\n",
       "       'SmokingStatus', 'TargetFVC'],\n",
       "      dtype='object')"
      ]
     },
     "execution_count": 24,
     "metadata": {},
     "output_type": "execute_result"
    }
   ],
   "source": [
    "train_new.columns"
   ]
  },
  {
   "cell_type": "code",
   "execution_count": 25,
   "id": "1ab44d95",
   "metadata": {
    "execution": {
     "iopub.execute_input": "2022-07-30T07:36:46.010673Z",
     "iopub.status.busy": "2022-07-30T07:36:46.010038Z",
     "iopub.status.idle": "2022-07-30T07:36:46.012840Z",
     "shell.execute_reply": "2022-07-30T07:36:46.012435Z",
     "shell.execute_reply.started": "2022-07-30T05:38:22.039508Z"
    },
    "papermill": {
     "duration": 0.065402,
     "end_time": "2022-07-30T07:36:46.012945",
     "exception": false,
     "start_time": "2022-07-30T07:36:45.947543",
     "status": "completed"
    },
    "tags": []
   },
   "outputs": [],
   "source": [
    "#Create features and target\n",
    "target=train_new[\"TargetFVC\"].values\n",
    "features=train_new[[ 'BaselineWeek', 'BaselineFVC', 'Age', 'Sex',\n",
    "       'SmokingStatus','TargetWeek']]"
   ]
  },
  {
   "cell_type": "code",
   "execution_count": 26,
   "id": "7729253a",
   "metadata": {
    "execution": {
     "iopub.execute_input": "2022-07-30T07:36:46.132898Z",
     "iopub.status.busy": "2022-07-30T07:36:46.132282Z",
     "iopub.status.idle": "2022-07-30T07:36:46.134826Z",
     "shell.execute_reply": "2022-07-30T07:36:46.135234Z",
     "shell.execute_reply.started": "2022-07-30T05:38:25.909440Z"
    },
    "papermill": {
     "duration": 0.065094,
     "end_time": "2022-07-30T07:36:46.135353",
     "exception": false,
     "start_time": "2022-07-30T07:36:46.070259",
     "status": "completed"
    },
    "tags": []
   },
   "outputs": [
    {
     "data": {
      "text/plain": [
       "((1096, 6), (1096,), (1096, 128, 128, 1))"
      ]
     },
     "execution_count": 26,
     "metadata": {},
     "output_type": "execute_result"
    }
   ],
   "source": [
    "features.shape,target.shape,train_img.shape"
   ]
  },
  {
   "cell_type": "markdown",
   "id": "2dccce43",
   "metadata": {
    "papermill": {
     "duration": 0.058058,
     "end_time": "2022-07-30T07:36:46.250783",
     "exception": false,
     "start_time": "2022-07-30T07:36:46.192725",
     "status": "completed"
    },
    "tags": []
   },
   "source": [
    "<font size='5'>Defining function for Loss calculation</font>"
   ]
  },
  {
   "cell_type": "markdown",
   "id": "bbd5272b",
   "metadata": {
    "papermill": {
     "duration": 0.057588,
     "end_time": "2022-07-30T07:36:46.368806",
     "exception": false,
     "start_time": "2022-07-30T07:36:46.311218",
     "status": "completed"
    },
    "tags": []
   },
   "source": [
    "<font size='4'>Loss Calculation is done using Laplace Likelihood</font>\n",
    "\n",
    "* <font size='4'>For each true FVC measurement,both FVC and confidence are measured.</font>\n",
    "* <font size='4'>Confidence values smaller than 70 are clipped.</font>\n",
    "* <font size='4'>Errors greater than 1000 are also clipped in order to avoid large errors.</font>"
   ]
  },
  {
   "attachments": {
    "e1028f31-3fec-45bd-a6bf-a3378e086d2c.png": {
     "image/png": "[encoded data removed]"
    }
   },
   "cell_type": "markdown",
   "id": "0f3f1548",
   "metadata": {
    "papermill": {
     "duration": 0.057795,
     "end_time": "2022-07-30T07:36:46.485258",
     "exception": false,
     "start_time": "2022-07-30T07:36:46.427463",
     "status": "completed"
    },
    "tags": []
   },
   "source": [
    "![metric.png](attachment:e1028f31-3fec-45bd-a6bf-a3378e086d2c.png)"
   ]
  },
  {
   "cell_type": "code",
   "execution_count": 27,
   "id": "353bfbff",
   "metadata": {
    "execution": {
     "iopub.execute_input": "2022-07-30T07:36:46.780162Z",
     "iopub.status.busy": "2022-07-30T07:36:46.779267Z",
     "iopub.status.idle": "2022-07-30T07:36:49.353946Z",
     "shell.execute_reply": "2022-07-30T07:36:49.354462Z",
     "shell.execute_reply.started": "2022-07-30T05:42:34.707086Z"
    },
    "papermill": {
     "duration": 2.802907,
     "end_time": "2022-07-30T07:36:49.354617",
     "exception": false,
     "start_time": "2022-07-30T07:36:46.551710",
     "status": "completed"
    },
    "tags": []
   },
   "outputs": [
    {
     "name": "stderr",
     "output_type": "stream",
     "text": [
      "2022-07-30 07:36:46.678908: I tensorflow/stream_executor/cuda/cuda_gpu_executor.cc:937] successful NUMA node read from SysFS had negative value (-1), but there must be at least one NUMA node, so returning NUMA node zero\n",
      "2022-07-30 07:36:46.775856: I tensorflow/stream_executor/cuda/cuda_gpu_executor.cc:937] successful NUMA node read from SysFS had negative value (-1), but there must be at least one NUMA node, so returning NUMA node zero\n",
      "2022-07-30 07:36:46.776639: I tensorflow/stream_executor/cuda/cuda_gpu_executor.cc:937] successful NUMA node read from SysFS had negative value (-1), but there must be at least one NUMA node, so returning NUMA node zero\n",
      "2022-07-30 07:36:46.782325: I tensorflow/core/platform/cpu_feature_guard.cc:142] This TensorFlow binary is optimized with oneAPI Deep Neural Network Library (oneDNN) to use the following CPU instructions in performance-critical operations:  AVX2 AVX512F FMA\n",
      "To enable them in other operations, rebuild TensorFlow with the appropriate compiler flags.\n",
      "2022-07-30 07:36:46.783603: I tensorflow/stream_executor/cuda/cuda_gpu_executor.cc:937] successful NUMA node read from SysFS had negative value (-1), but there must be at least one NUMA node, so returning NUMA node zero\n",
      "2022-07-30 07:36:46.784320: I tensorflow/stream_executor/cuda/cuda_gpu_executor.cc:937] successful NUMA node read from SysFS had negative value (-1), but there must be at least one NUMA node, so returning NUMA node zero\n",
      "2022-07-30 07:36:46.784991: I tensorflow/stream_executor/cuda/cuda_gpu_executor.cc:937] successful NUMA node read from SysFS had negative value (-1), but there must be at least one NUMA node, so returning NUMA node zero\n",
      "2022-07-30 07:36:49.044223: I tensorflow/stream_executor/cuda/cuda_gpu_executor.cc:937] successful NUMA node read from SysFS had negative value (-1), but there must be at least one NUMA node, so returning NUMA node zero\n",
      "2022-07-30 07:36:49.045027: I tensorflow/stream_executor/cuda/cuda_gpu_executor.cc:937] successful NUMA node read from SysFS had negative value (-1), but there must be at least one NUMA node, so returning NUMA node zero\n",
      "2022-07-30 07:36:49.045722: I tensorflow/stream_executor/cuda/cuda_gpu_executor.cc:937] successful NUMA node read from SysFS had negative value (-1), but there must be at least one NUMA node, so returning NUMA node zero\n",
      "2022-07-30 07:36:49.046340: I tensorflow/core/common_runtime/gpu/gpu_device.cc:1510] Created device /job:localhost/replica:0/task:0/device:GPU:0 with 15403 MB memory:  -> device: 0, name: Tesla P100-PCIE-16GB, pci bus id: 0000:00:04.0, compute capability: 6.0\n"
     ]
    }
   ],
   "source": [
    "C70, C10 = tf.constant(70, dtype='float32'), tf.constant(1000, dtype=\"float32\")\n",
    "#=============================#\n",
    "def LaplaceLogLikelihood(y_true, y_pred):\n",
    "    tf.dtypes.cast(y_true, tf.float32)\n",
    "    tf.dtypes.cast(y_pred, tf.float32)\n",
    "    \n",
    "    sigma_clip = tf.maximum(y_pred[:, 1], C70)\n",
    "    \n",
    "    delta = tf.minimum(tf.abs(y_true[:, 0] - y_pred[:, 0]), C10)\n",
    "  \n",
    "    sq2 = tf.sqrt( tf.dtypes.cast(2, dtype=tf.float32) )\n",
    "    metric = (delta / sigma_clip)*sq2 + tf.math.log(sigma_clip* sq2)\n",
    "    return K.mean(metric)\n",
    "#=============================#\n",
    "def regressionloss (y_true, y_pred):\n",
    "    tf.dtypes.cast(y_true, tf.float32)\n",
    "    tf.dtypes.cast(y_pred, tf.float32)\n",
    "    spread = tf.abs( (y_true[:, 0] -  y_pred[:, 0])  / y_true[:, 0] )\n",
    "    #spred = tf.square(y_true, y_pred[:, 0])\n",
    "    return K.mean(spread)\n",
    "#=============================#\n",
    "\n",
    "def OSICloss(_lambda):\n",
    "    def loss(y_true, y_pred):\n",
    "        return _lambda * LaplaceLogLikelihood(y_true, y_pred) + (1 - _lambda)*regressionloss(y_true, y_pred)\n",
    "    return loss\n",
    "#================="
   ]
  },
  {
   "cell_type": "markdown",
   "id": "d8364703",
   "metadata": {
    "papermill": {
     "duration": 0.058961,
     "end_time": "2022-07-30T07:36:49.475478",
     "exception": false,
     "start_time": "2022-07-30T07:36:49.416517",
     "status": "completed"
    },
    "tags": []
   },
   "source": [
    "<font size='5'>Architecture of CNN model</font>"
   ]
  },
  {
   "cell_type": "code",
   "execution_count": 28,
   "id": "f6dfabe1",
   "metadata": {
    "execution": {
     "iopub.execute_input": "2022-07-30T07:36:49.605471Z",
     "iopub.status.busy": "2022-07-30T07:36:49.603833Z",
     "iopub.status.idle": "2022-07-30T07:36:49.606032Z",
     "shell.execute_reply": "2022-07-30T07:36:49.606461Z",
     "shell.execute_reply.started": "2022-07-30T05:44:19.576779Z"
    },
    "papermill": {
     "duration": 0.07162,
     "end_time": "2022-07-30T07:36:49.606596",
     "exception": false,
     "start_time": "2022-07-30T07:36:49.534976",
     "status": "completed"
    },
    "tags": []
   },
   "outputs": [],
   "source": [
    "def model_1D():\n",
    "    ct = Layer.Input((128,128), name=\"input\")\n",
    "    Patient = Layer.Input((6,), name=\"Patient\")\n",
    "    x = Layer.Conv1D(50, 4, activation=\"relu\", name=\"conv1\")(ct)\n",
    "    x = Layer.MaxPool1D(2, name='pool1')(x)   \n",
    "    x = Layer.Conv1D(50, 4, activation=\"relu\", name=\"conv2\")(x)\n",
    "    x = Layer.MaxPool1D(2, name='pool2')(x)  \n",
    "    x = Layer.Conv1D(50, 4, activation=\"relu\", name=\"conv3\")(x)\n",
    "    x = Layer.MaxPool1D(2, name='pool3')(x) \n",
    "    x = Layer.Flatten(name=\"features\")(x)\n",
    "    x = Layer.Dense(50, activation=\"relu\", name=\"d1\")(x)\n",
    "    l = Layer.Dense(10, activation=\"relu\", name=\"d2\")(Patient)\n",
    "    x = Layer.Concatenate(name=\"combine\")([x, l])\n",
    "    x = Layer.Dense(50, activation=\"relu\", name=\"d3\")(x)\n",
    "    preds = Layer.Dense(2, activation=\"relu\", name=\"preds\")(x)    \n",
    "    model = Model.Model([ct, Patient], preds, name=\"CNN\")\n",
    "    model.compile(loss=OSICloss(0.5), optimizer=\"adam\", metrics=[LaplaceLogLikelihood])\n",
    "   \n",
    "    return model"
   ]
  },
  {
   "cell_type": "code",
   "execution_count": 29,
   "id": "ce35895d",
   "metadata": {
    "execution": {
     "iopub.execute_input": "2022-07-30T07:36:49.727683Z",
     "iopub.status.busy": "2022-07-30T07:36:49.727133Z",
     "iopub.status.idle": "2022-07-30T07:36:49.860518Z",
     "shell.execute_reply": "2022-07-30T07:36:49.859841Z",
     "shell.execute_reply.started": "2022-07-30T05:44:22.996020Z"
    },
    "papermill": {
     "duration": 0.195594,
     "end_time": "2022-07-30T07:36:49.860642",
     "exception": false,
     "start_time": "2022-07-30T07:36:49.665048",
     "status": "completed"
    },
    "tags": []
   },
   "outputs": [
    {
     "name": "stdout",
     "output_type": "stream",
     "text": [
      "Model: \"CNN\"\n",
      "__________________________________________________________________________________________________\n",
      "Layer (type)                    Output Shape         Param #     Connected to                     \n",
      "==================================================================================================\n",
      "input (InputLayer)              [(None, 128, 128)]   0                                            \n",
      "__________________________________________________________________________________________________\n",
      "conv1 (Conv1D)                  (None, 125, 50)      25650       input[0][0]                      \n",
      "__________________________________________________________________________________________________\n",
      "pool1 (MaxPooling1D)            (None, 62, 50)       0           conv1[0][0]                      \n",
      "__________________________________________________________________________________________________\n",
      "conv2 (Conv1D)                  (None, 59, 50)       10050       pool1[0][0]                      \n",
      "__________________________________________________________________________________________________\n",
      "pool2 (MaxPooling1D)            (None, 29, 50)       0           conv2[0][0]                      \n",
      "__________________________________________________________________________________________________\n",
      "conv3 (Conv1D)                  (None, 26, 50)       10050       pool2[0][0]                      \n",
      "__________________________________________________________________________________________________\n",
      "pool3 (MaxPooling1D)            (None, 13, 50)       0           conv3[0][0]                      \n",
      "__________________________________________________________________________________________________\n",
      "features (Flatten)              (None, 650)          0           pool3[0][0]                      \n",
      "__________________________________________________________________________________________________\n",
      "Patient (InputLayer)            [(None, 6)]          0                                            \n",
      "__________________________________________________________________________________________________\n",
      "d1 (Dense)                      (None, 50)           32550       features[0][0]                   \n",
      "__________________________________________________________________________________________________\n",
      "d2 (Dense)                      (None, 10)           70          Patient[0][0]                    \n",
      "__________________________________________________________________________________________________\n",
      "combine (Concatenate)           (None, 60)           0           d1[0][0]                         \n",
      "                                                                 d2[0][0]                         \n",
      "__________________________________________________________________________________________________\n",
      "d3 (Dense)                      (None, 50)           3050        combine[0][0]                    \n",
      "__________________________________________________________________________________________________\n",
      "preds (Dense)                   (None, 2)            102         d3[0][0]                         \n",
      "==================================================================================================\n",
      "Total params: 81,522\n",
      "Trainable params: 81,522\n",
      "Non-trainable params: 0\n",
      "__________________________________________________________________________________________________\n",
      "None\n"
     ]
    }
   ],
   "source": [
    "net_1D = model_1D()\n",
    "print(net_1D.summary())"
   ]
  },
  {
   "cell_type": "code",
   "execution_count": 30,
   "id": "ea15f7f8",
   "metadata": {
    "execution": {
     "iopub.execute_input": "2022-07-30T07:36:49.984951Z",
     "iopub.status.busy": "2022-07-30T07:36:49.984236Z",
     "iopub.status.idle": "2022-07-30T07:36:49.986771Z",
     "shell.execute_reply": "2022-07-30T07:36:49.986346Z",
     "shell.execute_reply.started": "2022-07-30T05:44:26.207341Z"
    },
    "papermill": {
     "duration": 0.064298,
     "end_time": "2022-07-30T07:36:49.986876",
     "exception": false,
     "start_time": "2022-07-30T07:36:49.922578",
     "status": "completed"
    },
    "tags": []
   },
   "outputs": [],
   "source": [
    "target=target.astype(\"float32\")"
   ]
  },
  {
   "cell_type": "markdown",
   "id": "72a2a571",
   "metadata": {
    "papermill": {
     "duration": 0.059168,
     "end_time": "2022-07-30T07:36:50.105745",
     "exception": false,
     "start_time": "2022-07-30T07:36:50.046577",
     "status": "completed"
    },
    "tags": []
   },
   "source": [
    "<font size='5'>Train the CNN model</font>"
   ]
  },
  {
   "cell_type": "code",
   "execution_count": 31,
   "id": "b5081051",
   "metadata": {
    "execution": {
     "iopub.execute_input": "2022-07-30T07:36:50.227784Z",
     "iopub.status.busy": "2022-07-30T07:36:50.227037Z",
     "iopub.status.idle": "2022-07-30T07:37:09.898511Z",
     "shell.execute_reply": "2022-07-30T07:37:09.898894Z",
     "shell.execute_reply.started": "2022-07-30T05:44:30.057720Z"
    },
    "papermill": {
     "duration": 19.734386,
     "end_time": "2022-07-30T07:37:09.899059",
     "exception": false,
     "start_time": "2022-07-30T07:36:50.164673",
     "status": "completed"
    },
    "tags": []
   },
   "outputs": [
    {
     "name": "stderr",
     "output_type": "stream",
     "text": [
      "2022-07-30 07:36:50.309328: I tensorflow/compiler/mlir/mlir_graph_optimization_pass.cc:185] None of the MLIR Optimization Passes are enabled (registered 2)\n"
     ]
    },
    {
     "name": "stdout",
     "output_type": "stream",
     "text": [
      "Epoch 1/100\n"
     ]
    },
    {
     "name": "stderr",
     "output_type": "stream",
     "text": [
      "2022-07-30 07:36:53.351573: I tensorflow/stream_executor/cuda/cuda_dnn.cc:369] Loaded cuDNN version 8005\n"
     ]
    },
    {
     "name": "stdout",
     "output_type": "stream",
     "text": [
      "22/22 [==============================] - 8s 9ms/step - loss: 8.7847 - LaplaceLogLikelihood: 17.2265\n",
      "Epoch 2/100\n",
      "22/22 [==============================] - 0s 5ms/step - loss: 7.1303 - LaplaceLogLikelihood: 14.0524\n",
      "Epoch 3/100\n",
      "22/22 [==============================] - 0s 5ms/step - loss: 5.4700 - LaplaceLogLikelihood: 10.8150\n",
      "Epoch 4/100\n",
      "22/22 [==============================] - 0s 5ms/step - loss: 4.3556 - LaplaceLogLikelihood: 8.6304\n",
      "Epoch 5/100\n",
      "22/22 [==============================] - 0s 5ms/step - loss: 3.9327 - LaplaceLogLikelihood: 7.7994\n",
      "Epoch 6/100\n",
      "22/22 [==============================] - 0s 5ms/step - loss: 3.7705 - LaplaceLogLikelihood: 7.4828\n",
      "Epoch 7/100\n",
      "22/22 [==============================] - 0s 5ms/step - loss: 3.6617 - LaplaceLogLikelihood: 7.2702\n",
      "Epoch 8/100\n",
      "22/22 [==============================] - 0s 5ms/step - loss: 3.5876 - LaplaceLogLikelihood: 7.1242\n",
      "Epoch 9/100\n",
      "22/22 [==============================] - 0s 5ms/step - loss: 3.5409 - LaplaceLogLikelihood: 7.0307\n",
      "Epoch 10/100\n",
      "22/22 [==============================] - 0s 5ms/step - loss: 3.4656 - LaplaceLogLikelihood: 6.8820\n",
      "Epoch 11/100\n",
      "22/22 [==============================] - 0s 5ms/step - loss: 3.4936 - LaplaceLogLikelihood: 6.9412\n",
      "Epoch 12/100\n",
      "22/22 [==============================] - 0s 5ms/step - loss: 3.4411 - LaplaceLogLikelihood: 6.8368\n",
      "Epoch 13/100\n",
      "22/22 [==============================] - 0s 5ms/step - loss: 3.4417 - LaplaceLogLikelihood: 6.8354\n",
      "Epoch 14/100\n",
      "22/22 [==============================] - 0s 5ms/step - loss: 3.4205 - LaplaceLogLikelihood: 6.7987\n",
      "Epoch 15/100\n",
      "22/22 [==============================] - 0s 5ms/step - loss: 3.4126 - LaplaceLogLikelihood: 6.7791\n",
      "Epoch 16/100\n",
      "22/22 [==============================] - 0s 5ms/step - loss: 3.3618 - LaplaceLogLikelihood: 6.6821\n",
      "Epoch 17/100\n",
      "22/22 [==============================] - 0s 5ms/step - loss: 3.3550 - LaplaceLogLikelihood: 6.6661\n",
      "Epoch 18/100\n",
      "22/22 [==============================] - 0s 5ms/step - loss: 3.2762 - LaplaceLogLikelihood: 6.5125\n",
      "Epoch 19/100\n",
      "22/22 [==============================] - 0s 5ms/step - loss: 3.2885 - LaplaceLogLikelihood: 6.5364\n",
      "Epoch 20/100\n",
      "22/22 [==============================] - 0s 5ms/step - loss: 3.2798 - LaplaceLogLikelihood: 6.5191\n",
      "Epoch 21/100\n",
      "22/22 [==============================] - 0s 5ms/step - loss: 3.1993 - LaplaceLogLikelihood: 6.3630\n",
      "Epoch 22/100\n",
      "22/22 [==============================] - 0s 5ms/step - loss: 3.1625 - LaplaceLogLikelihood: 6.2884\n",
      "Epoch 23/100\n",
      "22/22 [==============================] - 0s 5ms/step - loss: 3.1261 - LaplaceLogLikelihood: 6.2168\n",
      "Epoch 24/100\n",
      "22/22 [==============================] - 0s 5ms/step - loss: 3.1998 - LaplaceLogLikelihood: 6.3627\n",
      "Epoch 25/100\n",
      "22/22 [==============================] - 0s 5ms/step - loss: 3.1118 - LaplaceLogLikelihood: 6.1892\n",
      "Epoch 26/100\n",
      "22/22 [==============================] - 0s 5ms/step - loss: 3.0708 - LaplaceLogLikelihood: 6.1105\n",
      "Epoch 27/100\n",
      "22/22 [==============================] - 0s 5ms/step - loss: 3.1136 - LaplaceLogLikelihood: 6.1953\n",
      "Epoch 28/100\n",
      "22/22 [==============================] - 0s 5ms/step - loss: 3.0562 - LaplaceLogLikelihood: 6.0827\n",
      "Epoch 29/100\n",
      "22/22 [==============================] - 0s 5ms/step - loss: 3.0992 - LaplaceLogLikelihood: 6.1657\n",
      "Epoch 30/100\n",
      "22/22 [==============================] - 0s 5ms/step - loss: 3.1336 - LaplaceLogLikelihood: 6.2335\n",
      "Epoch 31/100\n",
      "22/22 [==============================] - 0s 5ms/step - loss: 3.0023 - LaplaceLogLikelihood: 5.9771\n",
      "Epoch 32/100\n",
      "22/22 [==============================] - 0s 5ms/step - loss: 3.0308 - LaplaceLogLikelihood: 6.0329\n",
      "Epoch 33/100\n",
      "22/22 [==============================] - 0s 5ms/step - loss: 3.0845 - LaplaceLogLikelihood: 6.1371\n",
      "Epoch 34/100\n",
      "22/22 [==============================] - 0s 5ms/step - loss: 3.0989 - LaplaceLogLikelihood: 6.1653\n",
      "Epoch 35/100\n",
      "22/22 [==============================] - 0s 5ms/step - loss: 3.0275 - LaplaceLogLikelihood: 6.0271\n",
      "Epoch 36/100\n",
      "22/22 [==============================] - 0s 5ms/step - loss: 2.9648 - LaplaceLogLikelihood: 5.9056\n",
      "Epoch 37/100\n",
      "22/22 [==============================] - 0s 5ms/step - loss: 2.9716 - LaplaceLogLikelihood: 5.9162\n",
      "Epoch 38/100\n",
      "22/22 [==============================] - 0s 5ms/step - loss: 2.9203 - LaplaceLogLikelihood: 5.8171\n",
      "Epoch 39/100\n",
      "22/22 [==============================] - 0s 5ms/step - loss: 3.0101 - LaplaceLogLikelihood: 5.9924\n",
      "Epoch 40/100\n",
      "22/22 [==============================] - 0s 5ms/step - loss: 2.9375 - LaplaceLogLikelihood: 5.8491\n",
      "Epoch 41/100\n",
      "22/22 [==============================] - 0s 5ms/step - loss: 2.9114 - LaplaceLogLikelihood: 5.7995\n",
      "Epoch 42/100\n",
      "22/22 [==============================] - 0s 5ms/step - loss: 2.8993 - LaplaceLogLikelihood: 5.7756\n",
      "Epoch 43/100\n",
      "22/22 [==============================] - 0s 5ms/step - loss: 2.8913 - LaplaceLogLikelihood: 5.7586\n",
      "Epoch 44/100\n",
      "22/22 [==============================] - 0s 5ms/step - loss: 2.9085 - LaplaceLogLikelihood: 5.7932\n",
      "Epoch 45/100\n",
      "22/22 [==============================] - 0s 5ms/step - loss: 2.8912 - LaplaceLogLikelihood: 5.7605\n",
      "Epoch 46/100\n",
      "22/22 [==============================] - 0s 9ms/step - loss: 2.8894 - LaplaceLogLikelihood: 5.7560\n",
      "Epoch 47/100\n",
      "22/22 [==============================] - 0s 7ms/step - loss: 2.8907 - LaplaceLogLikelihood: 5.7590\n",
      "Epoch 48/100\n",
      "22/22 [==============================] - 0s 7ms/step - loss: 2.8939 - LaplaceLogLikelihood: 5.7645\n",
      "Epoch 49/100\n",
      "22/22 [==============================] - 0s 6ms/step - loss: 2.8885 - LaplaceLogLikelihood: 5.7532\n",
      "Epoch 50/100\n",
      "22/22 [==============================] - 0s 5ms/step - loss: 2.8657 - LaplaceLogLikelihood: 5.7093\n",
      "Epoch 51/100\n",
      "22/22 [==============================] - 0s 5ms/step - loss: 2.8383 - LaplaceLogLikelihood: 5.6556\n",
      "Epoch 52/100\n",
      "22/22 [==============================] - 0s 5ms/step - loss: 2.8374 - LaplaceLogLikelihood: 5.6545\n",
      "Epoch 53/100\n",
      "22/22 [==============================] - 0s 5ms/step - loss: 2.8510 - LaplaceLogLikelihood: 5.6797\n",
      "Epoch 54/100\n",
      "22/22 [==============================] - 0s 5ms/step - loss: 2.8256 - LaplaceLogLikelihood: 5.6316\n",
      "Epoch 55/100\n",
      "22/22 [==============================] - 0s 5ms/step - loss: 2.8273 - LaplaceLogLikelihood: 5.6347\n",
      "Epoch 56/100\n",
      "22/22 [==============================] - 0s 5ms/step - loss: 2.8206 - LaplaceLogLikelihood: 5.6197\n",
      "Epoch 57/100\n",
      "22/22 [==============================] - 0s 5ms/step - loss: 2.7771 - LaplaceLogLikelihood: 5.5357\n",
      "Epoch 58/100\n",
      "22/22 [==============================] - 0s 5ms/step - loss: 2.8167 - LaplaceLogLikelihood: 5.6135\n",
      "Epoch 59/100\n",
      "22/22 [==============================] - 0s 5ms/step - loss: 2.7873 - LaplaceLogLikelihood: 5.5550\n",
      "Epoch 60/100\n",
      "22/22 [==============================] - 0s 5ms/step - loss: 2.7548 - LaplaceLogLikelihood: 5.4910\n",
      "Epoch 61/100\n",
      "22/22 [==============================] - 0s 5ms/step - loss: 2.7363 - LaplaceLogLikelihood: 5.4556\n",
      "Epoch 62/100\n",
      "22/22 [==============================] - 0s 5ms/step - loss: 2.7509 - LaplaceLogLikelihood: 5.4852\n",
      "Epoch 63/100\n",
      "22/22 [==============================] - 0s 5ms/step - loss: 2.7954 - LaplaceLogLikelihood: 5.5715\n",
      "Epoch 64/100\n",
      "22/22 [==============================] - 0s 5ms/step - loss: 2.7862 - LaplaceLogLikelihood: 5.5530\n",
      "Epoch 65/100\n",
      "22/22 [==============================] - 0s 5ms/step - loss: 2.7922 - LaplaceLogLikelihood: 5.5652\n",
      "Epoch 66/100\n",
      "22/22 [==============================] - 0s 5ms/step - loss: 2.7689 - LaplaceLogLikelihood: 5.5205\n",
      "Epoch 67/100\n",
      "22/22 [==============================] - 0s 5ms/step - loss: 2.7821 - LaplaceLogLikelihood: 5.5446\n",
      "Epoch 68/100\n",
      "22/22 [==============================] - 0s 6ms/step - loss: 2.7316 - LaplaceLogLikelihood: 5.4461\n",
      "Epoch 69/100\n",
      "22/22 [==============================] - 0s 5ms/step - loss: 2.7688 - LaplaceLogLikelihood: 5.5194\n",
      "Epoch 70/100\n",
      "22/22 [==============================] - 0s 5ms/step - loss: 2.8144 - LaplaceLogLikelihood: 5.6084\n",
      "Epoch 71/100\n",
      "22/22 [==============================] - 0s 5ms/step - loss: 2.7498 - LaplaceLogLikelihood: 5.4818\n",
      "Epoch 72/100\n",
      "22/22 [==============================] - 0s 5ms/step - loss: 2.7033 - LaplaceLogLikelihood: 5.3910\n",
      "Epoch 73/100\n",
      "22/22 [==============================] - 0s 5ms/step - loss: 2.6995 - LaplaceLogLikelihood: 5.3829\n",
      "Epoch 74/100\n",
      "22/22 [==============================] - 0s 5ms/step - loss: 2.6810 - LaplaceLogLikelihood: 5.3464\n",
      "Epoch 75/100\n",
      "22/22 [==============================] - 0s 5ms/step - loss: 2.6762 - LaplaceLogLikelihood: 5.3388\n",
      "Epoch 76/100\n",
      "22/22 [==============================] - 0s 5ms/step - loss: 2.7235 - LaplaceLogLikelihood: 5.4313\n",
      "Epoch 77/100\n",
      "22/22 [==============================] - 0s 5ms/step - loss: 2.7202 - LaplaceLogLikelihood: 5.4233\n",
      "Epoch 78/100\n",
      "22/22 [==============================] - 0s 5ms/step - loss: 2.7470 - LaplaceLogLikelihood: 5.4761\n",
      "Epoch 79/100\n",
      "22/22 [==============================] - 0s 5ms/step - loss: 2.6888 - LaplaceLogLikelihood: 5.3616\n",
      "Epoch 80/100\n",
      "22/22 [==============================] - 0s 5ms/step - loss: 2.6811 - LaplaceLogLikelihood: 5.3472\n",
      "Epoch 81/100\n",
      "22/22 [==============================] - 0s 5ms/step - loss: 2.7132 - LaplaceLogLikelihood: 5.4115\n",
      "Epoch 82/100\n",
      "22/22 [==============================] - 0s 5ms/step - loss: 2.6887 - LaplaceLogLikelihood: 5.3621\n",
      "Epoch 83/100\n",
      "22/22 [==============================] - 0s 5ms/step - loss: 2.6913 - LaplaceLogLikelihood: 5.3666\n",
      "Epoch 84/100\n",
      "22/22 [==============================] - 0s 5ms/step - loss: 2.6912 - LaplaceLogLikelihood: 5.3670\n",
      "Epoch 85/100\n",
      "22/22 [==============================] - 0s 5ms/step - loss: 2.6598 - LaplaceLogLikelihood: 5.3055\n",
      "Epoch 86/100\n",
      "22/22 [==============================] - 0s 5ms/step - loss: 2.6629 - LaplaceLogLikelihood: 5.3118\n",
      "Epoch 87/100\n",
      "22/22 [==============================] - 0s 5ms/step - loss: 2.7259 - LaplaceLogLikelihood: 5.4346\n",
      "Epoch 88/100\n",
      "22/22 [==============================] - 0s 5ms/step - loss: 2.7152 - LaplaceLogLikelihood: 5.4152\n",
      "Epoch 89/100\n",
      "22/22 [==============================] - 0s 5ms/step - loss: 2.6570 - LaplaceLogLikelihood: 5.2997\n",
      "Epoch 90/100\n",
      "22/22 [==============================] - 0s 5ms/step - loss: 2.6495 - LaplaceLogLikelihood: 5.2851\n",
      "Epoch 91/100\n",
      "22/22 [==============================] - 0s 5ms/step - loss: 2.6337 - LaplaceLogLikelihood: 5.2546\n",
      "Epoch 92/100\n",
      "22/22 [==============================] - 0s 5ms/step - loss: 2.6762 - LaplaceLogLikelihood: 5.3377\n",
      "Epoch 93/100\n",
      "22/22 [==============================] - 0s 5ms/step - loss: 2.6560 - LaplaceLogLikelihood: 5.2986\n",
      "Epoch 94/100\n",
      "22/22 [==============================] - 0s 5ms/step - loss: 2.7076 - LaplaceLogLikelihood: 5.3987\n",
      "Epoch 95/100\n",
      "22/22 [==============================] - 0s 5ms/step - loss: 2.6804 - LaplaceLogLikelihood: 5.3463\n",
      "Epoch 96/100\n",
      "22/22 [==============================] - 0s 5ms/step - loss: 2.7089 - LaplaceLogLikelihood: 5.4017\n",
      "Epoch 97/100\n",
      "22/22 [==============================] - 0s 5ms/step - loss: 2.6608 - LaplaceLogLikelihood: 5.3070\n",
      "Epoch 98/100\n",
      "22/22 [==============================] - 0s 5ms/step - loss: 2.6264 - LaplaceLogLikelihood: 5.2400\n",
      "Epoch 99/100\n",
      "22/22 [==============================] - 0s 5ms/step - loss: 2.6362 - LaplaceLogLikelihood: 5.2592\n",
      "Epoch 100/100\n",
      "22/22 [==============================] - 0s 5ms/step - loss: 2.6289 - LaplaceLogLikelihood: 5.2444\n"
     ]
    },
    {
     "data": {
      "text/plain": [
       "<keras.callbacks.History at 0x7f801044ef10>"
      ]
     },
     "execution_count": 31,
     "metadata": {},
     "output_type": "execute_result"
    }
   ],
   "source": [
    "net_1D.fit([train_img, features], target, batch_size=50, epochs=100) "
   ]
  },
  {
   "cell_type": "markdown",
   "id": "e981c0fe",
   "metadata": {
    "papermill": {
     "duration": 0.143746,
     "end_time": "2022-07-30T07:37:10.188565",
     "exception": false,
     "start_time": "2022-07-30T07:37:10.044819",
     "status": "completed"
    },
    "tags": []
   },
   "source": [
    "<font size='5'>Save the model and weights</font>"
   ]
  },
  {
   "cell_type": "code",
   "execution_count": 32,
   "id": "4f02f57e",
   "metadata": {
    "execution": {
     "iopub.execute_input": "2022-07-30T07:37:10.489795Z",
     "iopub.status.busy": "2022-07-30T07:37:10.488894Z",
     "iopub.status.idle": "2022-07-30T07:37:10.527860Z",
     "shell.execute_reply": "2022-07-30T07:37:10.528526Z",
     "shell.execute_reply.started": "2022-07-30T05:44:56.958623Z"
    },
    "papermill": {
     "duration": 0.196354,
     "end_time": "2022-07-30T07:37:10.528670",
     "exception": false,
     "start_time": "2022-07-30T07:37:10.332316",
     "status": "completed"
    },
    "tags": []
   },
   "outputs": [],
   "source": [
    "net_1D.save('cnn_mode.h5')"
   ]
  },
  {
   "cell_type": "markdown",
   "id": "3559ec80",
   "metadata": {
    "papermill": {
     "duration": 0.143289,
     "end_time": "2022-07-30T07:37:10.815352",
     "exception": false,
     "start_time": "2022-07-30T07:37:10.672063",
     "status": "completed"
    },
    "tags": []
   },
   "source": [
    "<font size='5'>Load Test data</font>"
   ]
  },
  {
   "cell_type": "code",
   "execution_count": 33,
   "id": "ba1bfd67",
   "metadata": {
    "execution": {
     "iopub.execute_input": "2022-07-30T07:37:11.108343Z",
     "iopub.status.busy": "2022-07-30T07:37:11.107675Z",
     "iopub.status.idle": "2022-07-30T07:37:11.114766Z",
     "shell.execute_reply": "2022-07-30T07:37:11.114292Z",
     "shell.execute_reply.started": "2022-07-30T05:45:05.370362Z"
    },
    "papermill": {
     "duration": 0.154736,
     "end_time": "2022-07-30T07:37:11.114879",
     "exception": false,
     "start_time": "2022-07-30T07:37:10.960143",
     "status": "completed"
    },
    "tags": []
   },
   "outputs": [],
   "source": [
    "test_data=pd.read_csv(\"../input/test-data/validation/validation.txt\")"
   ]
  },
  {
   "cell_type": "markdown",
   "id": "89584088",
   "metadata": {
    "papermill": {
     "duration": 0.145845,
     "end_time": "2022-07-30T07:37:11.406180",
     "exception": false,
     "start_time": "2022-07-30T07:37:11.260335",
     "status": "completed"
    },
    "tags": []
   },
   "source": [
    "<font size='5'>Preprocess Test data</font>"
   ]
  },
  {
   "cell_type": "code",
   "execution_count": 34,
   "id": "1887bfec",
   "metadata": {
    "execution": {
     "iopub.execute_input": "2022-07-30T07:37:11.722354Z",
     "iopub.status.busy": "2022-07-30T07:37:11.721733Z",
     "iopub.status.idle": "2022-07-30T07:37:11.726851Z",
     "shell.execute_reply": "2022-07-30T07:37:11.727295Z",
     "shell.execute_reply.started": "2022-07-30T05:45:08.408515Z"
    },
    "papermill": {
     "duration": 0.173792,
     "end_time": "2022-07-30T07:37:11.727438",
     "exception": false,
     "start_time": "2022-07-30T07:37:11.553646",
     "status": "completed"
    },
    "tags": []
   },
   "outputs": [
    {
     "data": {
      "text/html": [
       "<div>\n",
       "<style scoped>\n",
       "    .dataframe tbody tr th:only-of-type {\n",
       "        vertical-align: middle;\n",
       "    }\n",
       "\n",
       "    .dataframe tbody tr th {\n",
       "        vertical-align: top;\n",
       "    }\n",
       "\n",
       "    .dataframe thead th {\n",
       "        text-align: right;\n",
       "    }\n",
       "</style>\n",
       "<table border=\"1\" class=\"dataframe\">\n",
       "  <thead>\n",
       "    <tr style=\"text-align: right;\">\n",
       "      <th></th>\n",
       "      <th>PatientID</th>\n",
       "      <th>BaselineWeek</th>\n",
       "      <th>BaselineFVC</th>\n",
       "      <th>Age</th>\n",
       "      <th>Sex</th>\n",
       "      <th>SmokingStatus</th>\n",
       "      <th>TargetWeek</th>\n",
       "      <th>TargetFVC</th>\n",
       "    </tr>\n",
       "  </thead>\n",
       "  <tbody>\n",
       "    <tr>\n",
       "      <th>0</th>\n",
       "      <td>ID00076637202199015035026</td>\n",
       "      <td>-4</td>\n",
       "      <td>2298</td>\n",
       "      <td>51</td>\n",
       "      <td>Male</td>\n",
       "      <td>Never smoked</td>\n",
       "      <td>3</td>\n",
       "      <td>2298</td>\n",
       "    </tr>\n",
       "    <tr>\n",
       "      <th>1</th>\n",
       "      <td>ID00076637202199015035026</td>\n",
       "      <td>-4</td>\n",
       "      <td>2298</td>\n",
       "      <td>51</td>\n",
       "      <td>Male</td>\n",
       "      <td>Never smoked</td>\n",
       "      <td>5</td>\n",
       "      <td>2576</td>\n",
       "    </tr>\n",
       "    <tr>\n",
       "      <th>2</th>\n",
       "      <td>ID00076637202199015035026</td>\n",
       "      <td>-4</td>\n",
       "      <td>2298</td>\n",
       "      <td>51</td>\n",
       "      <td>Male</td>\n",
       "      <td>Never smoked</td>\n",
       "      <td>6</td>\n",
       "      <td>2182</td>\n",
       "    </tr>\n",
       "    <tr>\n",
       "      <th>3</th>\n",
       "      <td>ID00076637202199015035026</td>\n",
       "      <td>-4</td>\n",
       "      <td>2298</td>\n",
       "      <td>51</td>\n",
       "      <td>Male</td>\n",
       "      <td>Never smoked</td>\n",
       "      <td>9</td>\n",
       "      <td>2374</td>\n",
       "    </tr>\n",
       "    <tr>\n",
       "      <th>4</th>\n",
       "      <td>ID00076637202199015035026</td>\n",
       "      <td>-4</td>\n",
       "      <td>2298</td>\n",
       "      <td>51</td>\n",
       "      <td>Male</td>\n",
       "      <td>Never smoked</td>\n",
       "      <td>15</td>\n",
       "      <td>2370</td>\n",
       "    </tr>\n",
       "  </tbody>\n",
       "</table>\n",
       "</div>"
      ],
      "text/plain": [
       "                   PatientID  BaselineWeek  BaselineFVC  Age   Sex  \\\n",
       "0  ID00076637202199015035026            -4         2298   51  Male   \n",
       "1  ID00076637202199015035026            -4         2298   51  Male   \n",
       "2  ID00076637202199015035026            -4         2298   51  Male   \n",
       "3  ID00076637202199015035026            -4         2298   51  Male   \n",
       "4  ID00076637202199015035026            -4         2298   51  Male   \n",
       "\n",
       "  SmokingStatus  TargetWeek  TargetFVC  \n",
       "0  Never smoked           3       2298  \n",
       "1  Never smoked           5       2576  \n",
       "2  Never smoked           6       2182  \n",
       "3  Never smoked           9       2374  \n",
       "4  Never smoked          15       2370  "
      ]
     },
     "execution_count": 34,
     "metadata": {},
     "output_type": "execute_result"
    }
   ],
   "source": [
    "#GENERATE NEW COLUMNS LIKE BaslineWeek,BaselineFVC,TargetWeek,TargetFVC\n",
    "test_new = []\n",
    "for p in test_data['Patient'].unique():\n",
    "    patientData = test_data[test_data['Patient'] == p]\n",
    "    firstMeasure = list(patientData.iloc[0, :].values)\n",
    "  \n",
    "    for i, week in enumerate(patientData['Weeks'].iloc[1:]):\n",
    "        fvc = patientData.iloc[i, 2]\n",
    "        trainDataPoint = firstMeasure + [week, fvc]\n",
    "        test_new.append(trainDataPoint)\n",
    "    \n",
    "        \n",
    "test_new = pd.DataFrame(test_new)\n",
    "\n",
    "test_new.columns = ['PatientID', 'BaselineWeek', 'BaselineFVC', 'first_Percent', 'Age', 'Sex', 'SmokingStatus'] + ['TargetWeek', 'TargetFVC']\n",
    "\n",
    "#Dropping percent column since it was increasing the loss\n",
    "test_new.drop(columns = ['first_Percent'], inplace = True)\n",
    "\n",
    "test_new.head()"
   ]
  },
  {
   "cell_type": "code",
   "execution_count": 35,
   "id": "332cfe66",
   "metadata": {
    "execution": {
     "iopub.execute_input": "2022-07-30T07:37:12.026806Z",
     "iopub.status.busy": "2022-07-30T07:37:12.025955Z",
     "iopub.status.idle": "2022-07-30T07:37:12.027801Z",
     "shell.execute_reply": "2022-07-30T07:37:12.028227Z",
     "shell.execute_reply.started": "2022-07-30T05:45:13.456511Z"
    },
    "papermill": {
     "duration": 0.155485,
     "end_time": "2022-07-30T07:37:12.028360",
     "exception": false,
     "start_time": "2022-07-30T07:37:11.872875",
     "status": "completed"
    },
    "tags": []
   },
   "outputs": [],
   "source": [
    "#PREPROCESS IMAGE DATA\n",
    "def get_Weeks_Dcms(type):\n",
    "    fig=plt.figure(figsize=(10,10))\n",
    "    dcms=[]\n",
    "    plist=[]\n",
    "    wlist=[]\n",
    "    for p in test_data[\"Patient\"].unique():\n",
    "        image_dir = f\"{Path}/{type}/{p}\"\n",
    "        week=test_new[test_new[\"PatientID\"]==p][\"TargetWeek\"]\n",
    "        for w in week:\n",
    "            try:\n",
    "                ds = pydicom.dcmread(image_dir + \"/\" + str(w) + \".dcm\")\n",
    "                dcms.append(ds.pixel_array)\n",
    "                #plt.imshow(ds.pixel_array)\n",
    "                plist.append(p)\n",
    "                wlist.append(w)\n",
    "            except:\n",
    "                pass\n",
    "    data = pd.DataFrame({\"PatientID\":plist,\"TargetWeek\":wlist})        \n",
    "    return dcms,data"
   ]
  },
  {
   "cell_type": "code",
   "execution_count": 36,
   "id": "b163c054",
   "metadata": {
    "execution": {
     "iopub.execute_input": "2022-07-30T07:37:12.324689Z",
     "iopub.status.busy": "2022-07-30T07:37:12.323828Z",
     "iopub.status.idle": "2022-07-30T07:37:12.426034Z",
     "shell.execute_reply": "2022-07-30T07:37:12.425492Z",
     "shell.execute_reply.started": "2022-07-30T05:45:17.419228Z"
    },
    "papermill": {
     "duration": 0.252605,
     "end_time": "2022-07-30T07:37:12.426164",
     "exception": false,
     "start_time": "2022-07-30T07:37:12.173559",
     "status": "completed"
    },
    "tags": []
   },
   "outputs": [
    {
     "data": {
      "text/plain": [
       "<Figure size 720x720 with 0 Axes>"
      ]
     },
     "metadata": {},
     "output_type": "display_data"
    }
   ],
   "source": [
    "test_img,test_patweek=get_Weeks_Dcms(\"train\")"
   ]
  },
  {
   "cell_type": "code",
   "execution_count": 37,
   "id": "a322eddc",
   "metadata": {
    "execution": {
     "iopub.execute_input": "2022-07-30T07:37:12.726051Z",
     "iopub.status.busy": "2022-07-30T07:37:12.725394Z",
     "iopub.status.idle": "2022-07-30T07:37:12.817012Z",
     "shell.execute_reply": "2022-07-30T07:37:12.816544Z",
     "shell.execute_reply.started": "2022-07-30T05:45:20.831115Z"
    },
    "papermill": {
     "duration": 0.242727,
     "end_time": "2022-07-30T07:37:12.817133",
     "exception": false,
     "start_time": "2022-07-30T07:37:12.574406",
     "status": "completed"
    },
    "tags": []
   },
   "outputs": [],
   "source": [
    "#Resizing the images\n",
    "for i in range(0,len(test_img)):\n",
    "    im = Image.fromarray(test_img[i])\n",
    "    im = im.resize((128,128),resample=Image.NEAREST) \n",
    "    test_img[i] = np.array(im).reshape((128,128,1))"
   ]
  },
  {
   "cell_type": "code",
   "execution_count": 38,
   "id": "2ed38b37",
   "metadata": {
    "execution": {
     "iopub.execute_input": "2022-07-30T07:37:13.117428Z",
     "iopub.status.busy": "2022-07-30T07:37:13.116862Z",
     "iopub.status.idle": "2022-07-30T07:37:13.121451Z",
     "shell.execute_reply": "2022-07-30T07:37:13.121003Z",
     "shell.execute_reply.started": "2022-07-30T05:45:23.949063Z"
    },
    "papermill": {
     "duration": 0.155501,
     "end_time": "2022-07-30T07:37:13.121570",
     "exception": false,
     "start_time": "2022-07-30T07:37:12.966069",
     "status": "completed"
    },
    "tags": []
   },
   "outputs": [],
   "source": [
    "test_img=np.array(test_img)"
   ]
  },
  {
   "cell_type": "code",
   "execution_count": 39,
   "id": "b81d860c",
   "metadata": {
    "execution": {
     "iopub.execute_input": "2022-07-30T07:37:13.416627Z",
     "iopub.status.busy": "2022-07-30T07:37:13.415995Z",
     "iopub.status.idle": "2022-07-30T07:37:13.418606Z",
     "shell.execute_reply": "2022-07-30T07:37:13.419003Z",
     "shell.execute_reply.started": "2022-07-30T05:45:30.195972Z"
    },
    "papermill": {
     "duration": 0.152221,
     "end_time": "2022-07-30T07:37:13.419130",
     "exception": false,
     "start_time": "2022-07-30T07:37:13.266909",
     "status": "completed"
    },
    "tags": []
   },
   "outputs": [
    {
     "data": {
      "text/plain": [
       "(37, 128, 128, 1)"
      ]
     },
     "execution_count": 39,
     "metadata": {},
     "output_type": "execute_result"
    }
   ],
   "source": [
    "test_img.shape"
   ]
  },
  {
   "cell_type": "code",
   "execution_count": 40,
   "id": "bea9614e",
   "metadata": {
    "execution": {
     "iopub.execute_input": "2022-07-30T07:37:13.723583Z",
     "iopub.status.busy": "2022-07-30T07:37:13.722947Z",
     "iopub.status.idle": "2022-07-30T07:37:13.726203Z",
     "shell.execute_reply": "2022-07-30T07:37:13.725752Z",
     "shell.execute_reply.started": "2022-07-30T05:45:53.930842Z"
    },
    "papermill": {
     "duration": 0.158648,
     "end_time": "2022-07-30T07:37:13.726352",
     "exception": false,
     "start_time": "2022-07-30T07:37:13.567704",
     "status": "completed"
    },
    "tags": []
   },
   "outputs": [],
   "source": [
    "test_new = pd.merge(test_patweek,test_new, how=\"left\", on=['PatientID',\"TargetWeek\"])"
   ]
  },
  {
   "cell_type": "code",
   "execution_count": 41,
   "id": "2d083f4b",
   "metadata": {
    "execution": {
     "iopub.execute_input": "2022-07-30T07:37:14.025427Z",
     "iopub.status.busy": "2022-07-30T07:37:14.024843Z",
     "iopub.status.idle": "2022-07-30T07:37:14.028574Z",
     "shell.execute_reply": "2022-07-30T07:37:14.028114Z",
     "shell.execute_reply.started": "2022-07-30T05:45:56.389549Z"
    },
    "papermill": {
     "duration": 0.155234,
     "end_time": "2022-07-30T07:37:14.028686",
     "exception": false,
     "start_time": "2022-07-30T07:37:13.873452",
     "status": "completed"
    },
    "tags": []
   },
   "outputs": [],
   "source": [
    "#ENCODING Sex and SmokingStatus\n",
    "test_new[\"Sex\"]=test_new[\"Sex\"].astype(\"category\").cat.codes\n",
    "test_new[\"SmokingStatus\"]=test_new[\"SmokingStatus\"].astype(\"category\").cat.codes"
   ]
  },
  {
   "cell_type": "code",
   "execution_count": 42,
   "id": "be005be0",
   "metadata": {
    "execution": {
     "iopub.execute_input": "2022-07-30T07:37:14.326967Z",
     "iopub.status.busy": "2022-07-30T07:37:14.325336Z",
     "iopub.status.idle": "2022-07-30T07:37:14.327649Z",
     "shell.execute_reply": "2022-07-30T07:37:14.328057Z",
     "shell.execute_reply.started": "2022-07-30T05:46:01.251384Z"
    },
    "papermill": {
     "duration": 0.154074,
     "end_time": "2022-07-30T07:37:14.328184",
     "exception": false,
     "start_time": "2022-07-30T07:37:14.174110",
     "status": "completed"
    },
    "tags": []
   },
   "outputs": [],
   "source": [
    "target_test=test_new[\"TargetFVC\"].values\n",
    "features_test=test_new[[ 'BaselineWeek', 'BaselineFVC', 'Age', 'Sex','SmokingStatus','TargetWeek']]"
   ]
  },
  {
   "cell_type": "markdown",
   "id": "5803ae82",
   "metadata": {
    "papermill": {
     "duration": 0.245191,
     "end_time": "2022-07-30T07:37:14.721106",
     "exception": false,
     "start_time": "2022-07-30T07:37:14.475915",
     "status": "completed"
    },
    "tags": []
   },
   "source": [
    "<font size='5'>Predict Test Data</font>"
   ]
  },
  {
   "cell_type": "code",
   "execution_count": 43,
   "id": "05a0f444",
   "metadata": {
    "execution": {
     "iopub.execute_input": "2022-07-30T07:37:15.189958Z",
     "iopub.status.busy": "2022-07-30T07:37:15.189013Z",
     "iopub.status.idle": "2022-07-30T07:37:15.501466Z",
     "shell.execute_reply": "2022-07-30T07:37:15.500958Z",
     "shell.execute_reply.started": "2022-07-30T05:46:05.434704Z"
    },
    "papermill": {
     "duration": 0.538346,
     "end_time": "2022-07-30T07:37:15.501596",
     "exception": false,
     "start_time": "2022-07-30T07:37:14.963250",
     "status": "completed"
    },
    "tags": []
   },
   "outputs": [
    {
     "name": "stdout",
     "output_type": "stream",
     "text": [
      "1/1 [==============================] - 0s 141ms/step\n"
     ]
    }
   ],
   "source": [
    "from keras.models import load_model\n",
    "net_1D=load_model('cnn_mode.h5',custom_objects={'loss':OSICloss(0.5),'LaplaceLogLikelihood':LaplaceLogLikelihood})\n",
    "predict_1D=net_1D.predict([test_img, features_test], batch_size=100, verbose=1)"
   ]
  },
  {
   "cell_type": "markdown",
   "id": "1ea4be0b",
   "metadata": {
    "papermill": {
     "duration": 0.145784,
     "end_time": "2022-07-30T07:37:15.795225",
     "exception": false,
     "start_time": "2022-07-30T07:37:15.649441",
     "status": "completed"
    },
    "tags": []
   },
   "source": [
    "<font size='5'>Evaluation of CNN model</font>"
   ]
  },
  {
   "cell_type": "code",
   "execution_count": 44,
   "id": "61eb0229",
   "metadata": {
    "execution": {
     "iopub.execute_input": "2022-07-30T07:37:16.102494Z",
     "iopub.status.busy": "2022-07-30T07:37:16.101284Z",
     "iopub.status.idle": "2022-07-30T07:37:16.104826Z",
     "shell.execute_reply": "2022-07-30T07:37:16.104411Z",
     "shell.execute_reply.started": "2022-07-30T06:54:17.242524Z"
    },
    "papermill": {
     "duration": 0.163676,
     "end_time": "2022-07-30T07:37:16.104947",
     "exception": false,
     "start_time": "2022-07-30T07:37:15.941271",
     "status": "completed"
    },
    "tags": []
   },
   "outputs": [
    {
     "data": {
      "text/plain": [
       "-5.206215420226713"
      ]
     },
     "execution_count": 44,
     "metadata": {},
     "output_type": "execute_result"
    }
   ],
   "source": [
    "## evaluation metric function\n",
    "def laplace_log_likelihood(actual_fvc, predicted_fvc, confidence, return_values = False):\n",
    "    \"\"\"\n",
    "    Calculates the modified Laplace Log Likelihood score for this competition.\n",
    "    \"\"\"\n",
    "    sd_clipped = np.maximum(confidence, 70)\n",
    "    delta = np.minimum(np.abs(actual_fvc - predicted_fvc), 1000)\n",
    "    metric = - np.sqrt(2) * delta / sd_clipped - np.log(np.sqrt(2) * sd_clipped)\n",
    "\n",
    "    if return_values:\n",
    "        return metric\n",
    "    else:\n",
    "        return np.mean(metric)\n",
    "\n",
    "\n",
    "## default benchmark\n",
    "laplace_log_likelihood(target_test, predict_1D[:,0],predict_1D[:,1])"
   ]
  },
  {
   "cell_type": "markdown",
   "id": "8d54efdd",
   "metadata": {
    "papermill": {
     "duration": 0.147134,
     "end_time": "2022-07-30T07:37:16.400790",
     "exception": false,
     "start_time": "2022-07-30T07:37:16.253656",
     "status": "completed"
    },
    "tags": []
   },
   "source": [
    "<font size='4'>A good prediction model for LaplaceLikelihood would score between -4.5 to -6.8.</font>"
   ]
  },
  {
   "cell_type": "markdown",
   "id": "74ffbb85",
   "metadata": {
    "papermill": {
     "duration": 0.149498,
     "end_time": "2022-07-30T07:37:16.707745",
     "exception": false,
     "start_time": "2022-07-30T07:37:16.558247",
     "status": "completed"
    },
    "tags": []
   },
   "source": [
    "# Prediction using XGBoostRegressor model"
   ]
  },
  {
   "cell_type": "markdown",
   "id": "171aac4e",
   "metadata": {
    "papermill": {
     "duration": 0.146677,
     "end_time": "2022-07-30T07:37:17.002181",
     "exception": false,
     "start_time": "2022-07-30T07:37:16.855504",
     "status": "completed"
    },
    "tags": []
   },
   "source": [
    "<font size='5'>Train the preprocessed tabular data</font>"
   ]
  },
  {
   "cell_type": "code",
   "execution_count": 45,
   "id": "79c86eaf",
   "metadata": {
    "execution": {
     "iopub.execute_input": "2022-07-30T07:37:17.301614Z",
     "iopub.status.busy": "2022-07-30T07:37:17.300848Z",
     "iopub.status.idle": "2022-07-30T07:37:18.003842Z",
     "shell.execute_reply": "2022-07-30T07:37:18.003067Z",
     "shell.execute_reply.started": "2022-07-30T06:31:38.724765Z"
    },
    "papermill": {
     "duration": 0.854822,
     "end_time": "2022-07-30T07:37:18.003974",
     "exception": false,
     "start_time": "2022-07-30T07:37:17.149152",
     "status": "completed"
    },
    "tags": []
   },
   "outputs": [],
   "source": [
    "from xgboost import XGBRegressor"
   ]
  },
  {
   "cell_type": "code",
   "execution_count": 46,
   "id": "d948d599",
   "metadata": {
    "execution": {
     "iopub.execute_input": "2022-07-30T07:37:18.304802Z",
     "iopub.status.busy": "2022-07-30T07:37:18.304093Z",
     "iopub.status.idle": "2022-07-30T07:37:21.520652Z",
     "shell.execute_reply": "2022-07-30T07:37:21.519873Z",
     "shell.execute_reply.started": "2022-07-30T06:32:06.996288Z"
    },
    "papermill": {
     "duration": 3.368497,
     "end_time": "2022-07-30T07:37:21.520778",
     "exception": false,
     "start_time": "2022-07-30T07:37:18.152281",
     "status": "completed"
    },
    "tags": []
   },
   "outputs": [
    {
     "data": {
      "text/plain": [
       "XGBRegressor(base_score=0.5, booster='gbtree', colsample_bylevel=1,\n",
       "             colsample_bynode=1, colsample_bytree=1, enable_categorical=False,\n",
       "             gamma=0, gpu_id=-1, importance_type=None,\n",
       "             interaction_constraints='', learning_rate=0.1, max_delta_step=0,\n",
       "             max_depth=6, min_child_weight=1, missing=nan,\n",
       "             monotone_constraints='()', n_estimators=200, n_jobs=2,\n",
       "             num_parallel_tree=1, predictor='auto', random_state=0, reg_alpha=0,\n",
       "             reg_lambda=1, scale_pos_weight=1, subsample=1, tree_method='exact',\n",
       "             validate_parameters=1, verbosity=None)"
      ]
     },
     "execution_count": 46,
     "metadata": {},
     "output_type": "execute_result"
    }
   ],
   "source": [
    "mod = XGBRegressor(learning_rate=0.1, n_estimators=200)\n",
    "mod.fit(features,target)"
   ]
  },
  {
   "cell_type": "markdown",
   "id": "28a769f9",
   "metadata": {
    "papermill": {
     "duration": 0.146174,
     "end_time": "2022-07-30T07:37:21.816514",
     "exception": false,
     "start_time": "2022-07-30T07:37:21.670340",
     "status": "completed"
    },
    "tags": []
   },
   "source": [
    "<font size='5'>Predict the preprocessed test data</font>"
   ]
  },
  {
   "cell_type": "code",
   "execution_count": 47,
   "id": "b015bec1",
   "metadata": {
    "execution": {
     "iopub.execute_input": "2022-07-30T07:37:22.114148Z",
     "iopub.status.busy": "2022-07-30T07:37:22.113343Z",
     "iopub.status.idle": "2022-07-30T07:37:22.118123Z",
     "shell.execute_reply": "2022-07-30T07:37:22.118558Z",
     "shell.execute_reply.started": "2022-07-30T06:50:57.240641Z"
    },
    "papermill": {
     "duration": 0.155938,
     "end_time": "2022-07-30T07:37:22.118715",
     "exception": false,
     "start_time": "2022-07-30T07:37:21.962777",
     "status": "completed"
    },
    "tags": []
   },
   "outputs": [],
   "source": [
    "xbg_mod=mod.predict(features_test)"
   ]
  },
  {
   "cell_type": "markdown",
   "id": "646dfbe1",
   "metadata": {
    "papermill": {
     "duration": 0.146078,
     "end_time": "2022-07-30T07:37:22.412312",
     "exception": false,
     "start_time": "2022-07-30T07:37:22.266234",
     "status": "completed"
    },
    "tags": []
   },
   "source": [
    "<font size='5'>Evaluation of XGBoost</font>"
   ]
  },
  {
   "cell_type": "code",
   "execution_count": 48,
   "id": "d9510a9c",
   "metadata": {
    "execution": {
     "iopub.execute_input": "2022-07-30T07:37:22.719033Z",
     "iopub.status.busy": "2022-07-30T07:37:22.718144Z",
     "iopub.status.idle": "2022-07-30T07:37:22.721129Z",
     "shell.execute_reply": "2022-07-30T07:37:22.721578Z",
     "shell.execute_reply.started": "2022-07-30T06:51:30.924267Z"
    },
    "papermill": {
     "duration": 0.162084,
     "end_time": "2022-07-30T07:37:22.721720",
     "exception": false,
     "start_time": "2022-07-30T07:37:22.559636",
     "status": "completed"
    },
    "tags": []
   },
   "outputs": [
    {
     "data": {
      "text/plain": [
       "-5.426438333698061"
      ]
     },
     "execution_count": 48,
     "metadata": {},
     "output_type": "execute_result"
    }
   ],
   "source": [
    "laplace_log_likelihood(target_test,xbg_mod,100)"
   ]
  },
  {
   "cell_type": "markdown",
   "id": "bdc86093",
   "metadata": {
    "papermill": {
     "duration": 0.162315,
     "end_time": "2022-07-30T07:37:23.037000",
     "exception": false,
     "start_time": "2022-07-30T07:37:22.874685",
     "status": "completed"
    },
    "tags": []
   },
   "source": [
    "<font size='5'>Ensemble of CNN  and XGBoost</font>"
   ]
  },
  {
   "cell_type": "code",
   "execution_count": 49,
   "id": "131d9f30",
   "metadata": {
    "execution": {
     "iopub.execute_input": "2022-07-30T07:37:23.340142Z",
     "iopub.status.busy": "2022-07-30T07:37:23.338560Z",
     "iopub.status.idle": "2022-07-30T07:37:23.340751Z",
     "shell.execute_reply": "2022-07-30T07:37:23.341186Z",
     "shell.execute_reply.started": "2022-07-30T06:55:30.357575Z"
    },
    "papermill": {
     "duration": 0.155092,
     "end_time": "2022-07-30T07:37:23.341363",
     "exception": false,
     "start_time": "2022-07-30T07:37:23.186271",
     "status": "completed"
    },
    "tags": []
   },
   "outputs": [],
   "source": [
    "new_out=np.zeros(len(xbg_mod))\n",
    "for i in range(len(xbg_mod)):\n",
    "    new_out[i]=0.35*xbg_mod[i]+0.65*predict_1D[i][0]"
   ]
  },
  {
   "cell_type": "code",
   "execution_count": 50,
   "id": "c58cfbb4",
   "metadata": {
    "execution": {
     "iopub.execute_input": "2022-07-30T07:37:23.642739Z",
     "iopub.status.busy": "2022-07-30T07:37:23.641963Z",
     "iopub.status.idle": "2022-07-30T07:37:23.644575Z",
     "shell.execute_reply": "2022-07-30T07:37:23.644978Z",
     "shell.execute_reply.started": "2022-07-30T07:11:09.764515Z"
    },
    "papermill": {
     "duration": 0.157217,
     "end_time": "2022-07-30T07:37:23.645105",
     "exception": false,
     "start_time": "2022-07-30T07:37:23.487888",
     "status": "completed"
    },
    "tags": []
   },
   "outputs": [
    {
     "data": {
      "text/plain": [
       "-5.12319152168637"
      ]
     },
     "execution_count": 50,
     "metadata": {},
     "output_type": "execute_result"
    }
   ],
   "source": [
    "laplace_log_likelihood(target_test,new_out,0.65*predict_1D[:,1])"
   ]
  },
  {
   "cell_type": "markdown",
   "id": "5ea80f96",
   "metadata": {
    "papermill": {
     "duration": 0.145292,
     "end_time": "2022-07-30T07:37:23.941581",
     "exception": false,
     "start_time": "2022-07-30T07:37:23.796289",
     "status": "completed"
    },
    "tags": []
   },
   "source": [
    "<font size=\"5\">CNN Visualization</font>"
   ]
  },
  {
   "cell_type": "code",
   "execution_count": 51,
   "id": "8ed23a7a",
   "metadata": {
    "execution": {
     "iopub.execute_input": "2022-07-30T07:37:24.240232Z",
     "iopub.status.busy": "2022-07-30T07:37:24.239425Z",
     "iopub.status.idle": "2022-07-30T07:37:24.241492Z",
     "shell.execute_reply": "2022-07-30T07:37:24.241866Z",
     "shell.execute_reply.started": "2022-07-30T07:22:13.770106Z"
    },
    "papermill": {
     "duration": 0.154218,
     "end_time": "2022-07-30T07:37:24.241999",
     "exception": false,
     "start_time": "2022-07-30T07:37:24.087781",
     "status": "completed"
    },
    "tags": []
   },
   "outputs": [],
   "source": [
    "id=[]\n",
    "for i in range(1,101):\n",
    "    id.append(i)"
   ]
  },
  {
   "cell_type": "code",
   "execution_count": 52,
   "id": "2e301a88",
   "metadata": {
    "execution": {
     "iopub.execute_input": "2022-07-30T07:37:24.570978Z",
     "iopub.status.busy": "2022-07-30T07:37:24.567804Z",
     "iopub.status.idle": "2022-07-30T07:37:24.733578Z",
     "shell.execute_reply": "2022-07-30T07:37:24.733991Z",
     "shell.execute_reply.started": "2022-07-30T07:22:17.111788Z"
    },
    "papermill": {
     "duration": 0.345334,
     "end_time": "2022-07-30T07:37:24.734131",
     "exception": false,
     "start_time": "2022-07-30T07:37:24.388797",
     "status": "completed"
    },
    "tags": []
   },
   "outputs": [
    {
     "data": {
      "image/png": "[encoded data removed]",
      "text/plain": [
       "<Figure size 432x288 with 1 Axes>"
      ]
     },
     "metadata": {
      "needs_background": "light"
     },
     "output_type": "display_data"
    }
   ],
   "source": [
    "plt.plot(id[:30],target_test[:30])\n",
    "plt.plot(id[:30],predict_1D[:30,0],color='orange')\n",
    "plt.title('')\n",
    "plt.ylabel('FVC')\n",
    "plt.xlabel('Id')\n",
    "plt.legend(['Actual', 'Predicted'], loc='upper left')\n",
    "plt.show()"
   ]
  },
  {
   "cell_type": "markdown",
   "id": "83dcfeea",
   "metadata": {
    "papermill": {
     "duration": 0.148429,
     "end_time": "2022-07-30T07:37:25.031018",
     "exception": false,
     "start_time": "2022-07-30T07:37:24.882589",
     "status": "completed"
    },
    "tags": []
   },
   "source": [
    "<font size=\"5\">XGBoost Visualization</font>"
   ]
  },
  {
   "cell_type": "code",
   "execution_count": 53,
   "id": "dcab0530",
   "metadata": {
    "execution": {
     "iopub.execute_input": "2022-07-30T07:37:25.364887Z",
     "iopub.status.busy": "2022-07-30T07:37:25.355146Z",
     "iopub.status.idle": "2022-07-30T07:37:25.520856Z",
     "shell.execute_reply": "2022-07-30T07:37:25.521277Z",
     "shell.execute_reply.started": "2022-07-30T07:22:21.505908Z"
    },
    "papermill": {
     "duration": 0.341288,
     "end_time": "2022-07-30T07:37:25.521436",
     "exception": false,
     "start_time": "2022-07-30T07:37:25.180148",
     "status": "completed"
    },
    "tags": []
   },
   "outputs": [
    {
     "data": {
      "image/png": "[encoded data removed]",
      "text/plain": [
       "<Figure size 432x288 with 1 Axes>"
      ]
     },
     "metadata": {
      "needs_background": "light"
     },
     "output_type": "display_data"
    }
   ],
   "source": [
    "plt.plot(id[:30],target_test[:30])\n",
    "plt.plot(id[:30],xbg_mod[:30],color='orange')\n",
    "plt.title('')\n",
    "plt.ylabel('FVC')\n",
    "plt.xlabel('Id')\n",
    "plt.legend(['Actual', 'Predicted'], loc='upper left')\n",
    "plt.show()"
   ]
  },
  {
   "cell_type": "markdown",
   "id": "d42b9912",
   "metadata": {
    "papermill": {
     "duration": 0.244706,
     "end_time": "2022-07-30T07:37:26.015530",
     "exception": false,
     "start_time": "2022-07-30T07:37:25.770824",
     "status": "completed"
    },
    "tags": []
   },
   "source": [
    "<font size=\"5\">Ensemble of CNN + XGBoost Visualization</font>"
   ]
  },
  {
   "cell_type": "code",
   "execution_count": 54,
   "id": "66825ddb",
   "metadata": {
    "execution": {
     "iopub.execute_input": "2022-07-30T07:37:26.388863Z",
     "iopub.status.busy": "2022-07-30T07:37:26.382825Z",
     "iopub.status.idle": "2022-07-30T07:37:26.558138Z",
     "shell.execute_reply": "2022-07-30T07:37:26.558650Z",
     "shell.execute_reply.started": "2022-07-30T07:22:24.737252Z"
    },
    "papermill": {
     "duration": 0.353065,
     "end_time": "2022-07-30T07:37:26.558802",
     "exception": false,
     "start_time": "2022-07-30T07:37:26.205737",
     "status": "completed"
    },
    "tags": []
   },
   "outputs": [
    {
     "data": {
      "image/png": "[encoded data removed]",
      "text/plain": [
       "<Figure size 432x288 with 1 Axes>"
      ]
     },
     "metadata": {
      "needs_background": "light"
     },
     "output_type": "display_data"
    }
   ],
   "source": [
    "plt.plot(id[:30],target_test[:30])\n",
    "plt.plot(id[:30],new_out[:30],color='orange')\n",
    "plt.title('')\n",
    "plt.ylabel('FVC')\n",
    "plt.xlabel('Id')\n",
    "plt.legend(['Actual', 'Predicted'], loc='upper left')\n",
    "plt.show()"
   ]
  },
  {
   "cell_type": "markdown",
   "id": "92a67fcc",
   "metadata": {
    "papermill": {
     "duration": 0.15225,
     "end_time": "2022-07-30T07:37:26.863664",
     "exception": false,
     "start_time": "2022-07-30T07:37:26.711414",
     "status": "completed"
    },
    "tags": []
   },
   "source": [
    "<font size=\"5\">Loss Comparison</font>"
   ]
  },
  {
   "cell_type": "code",
   "execution_count": 55,
   "id": "9d7c9c59",
   "metadata": {
    "execution": {
     "iopub.execute_input": "2022-07-30T07:37:27.188468Z",
     "iopub.status.busy": "2022-07-30T07:37:27.187897Z",
     "iopub.status.idle": "2022-07-30T07:37:27.321231Z",
     "shell.execute_reply": "2022-07-30T07:37:27.321669Z",
     "shell.execute_reply.started": "2022-07-30T07:25:49.908673Z"
    },
    "papermill": {
     "duration": 0.308632,
     "end_time": "2022-07-30T07:37:27.321808",
     "exception": false,
     "start_time": "2022-07-30T07:37:27.013176",
     "status": "completed"
    },
    "tags": []
   },
   "outputs": [
    {
     "data": {
      "text/plain": [
       "Text(0.5, 1.0, 'LaplaceLikelihood')"
      ]
     },
     "execution_count": 55,
     "metadata": {},
     "output_type": "execute_result"
    },
    {
     "data": {
      "image/png": "[encoded data removed]",
      "text/plain": [
       "<Figure size 432x288 with 1 Axes>"
      ]
     },
     "metadata": {
      "needs_background": "light"
     },
     "output_type": "display_data"
    }
   ],
   "source": [
    "import matplotlib.pyplot as plt\n",
    "models=['XBG','CNN','ENSEMBLE']\n",
    "error=[5.5,5.3,5.2]\n",
    "plt.bar(models,error,color='purple')\n",
    "plt.title('LaplaceLikelihood')"
   ]
  }
 ],
 "metadata": {
  "kernelspec": {
   "display_name": "Python 3",
   "language": "python",
   "name": "python3"
  },
  "language_info": {
   "codemirror_mode": {
    "name": "ipython",
    "version": 3
   },
   "file_extension": ".py",
   "mimetype": "text/x-python",
   "name": "python",
   "nbconvert_exporter": "python",
   "pygments_lexer": "ipython3",
   "version": "3.7.12"
  },
  "papermill": {
   "default_parameters": {},
   "duration": 91.615601,
   "end_time": "2022-07-30T07:37:30.623255",
   "environment_variables": {},
   "exception": null,
   "input_path": "__notebook__.ipynb",
   "output_path": "__notebook__.ipynb",
   "parameters": {},
   "start_time": "2022-07-30T07:35:59.007654",
   "version": "2.3.3"
  }
 },
 "nbformat": 4,
 "nbformat_minor": 5
}
